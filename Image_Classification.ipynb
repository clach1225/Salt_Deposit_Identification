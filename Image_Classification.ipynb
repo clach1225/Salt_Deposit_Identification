{
 "cells": [
  {
   "cell_type": "code",
   "execution_count": 1,
   "metadata": {},
   "outputs": [
    {
     "name": "stderr",
     "output_type": "stream",
     "text": [
      "Using TensorFlow backend.\n"
     ]
    }
   ],
   "source": [
    "import random\n",
    "import pandas as pd\n",
    "import os\n",
    "\n",
    "from sklearn.model_selection import train_test_split\n",
    "\n",
    "\n",
    "import matplotlib.pyplot as plt\n",
    "import matplotlib.image as mpimg\n",
    "import numpy as np\n",
    "\n",
    "from PIL import Image, ImageFilter\n",
    "\n",
    "\n",
    "import time\n",
    "import numpy\n",
    "from keras.datasets import mnist\n",
    "from keras.models import Model\n",
    "from keras.layers import Input, Concatenate, Dense, Dropout, Flatten, Activation\n",
    "from keras.layers.convolutional import Conv2D, MaxPooling2D\n",
    "from keras.layers import Conv2DTranspose\n",
    "from keras.layers.normalization import BatchNormalization\n",
    "from keras.utils import to_categorical\n",
    "from keras import backend as K\n",
    "from keras.optimizers import Adam\n",
    "from keras.models import Sequential\n",
    "from keras.layers import Dense\n",
    "from keras.layers import Dropout\n",
    "from keras.layers import UpSampling2D\n",
    "from keras.layers import ZeroPadding2D\n",
    "from keras.preprocessing.image import ImageDataGenerator\n",
    "import keras\n",
    "import cv2\n",
    "\n",
    "import keras.utils as np_utils"
   ]
  },
  {
   "cell_type": "code",
   "execution_count": null,
   "metadata": {},
   "outputs": [],
   "source": []
  },
  {
   "cell_type": "code",
   "execution_count": 2,
   "metadata": {},
   "outputs": [],
   "source": [
    "#This is the Data to be Trained and Labeled.\n",
    "X = []\n",
    "y = []\n",
    "\n",
    "X_images = []\n",
    "y_images = []\n",
    "\n",
    "#Data Paths\n",
    "train_image_path = r\"C:\\Users\\uschlac\\Documents\\Practicum\\Practicum_2\\images\"\n",
    "train_mask_path = r\"C:\\Users\\uschlac\\Documents\\Practicum\\Practicum_2\\masks\"\n",
    "\n",
    "\n",
    "image_list = os.listdir(train_image_path)\n",
    "mask_list = os.listdir(train_mask_path)\n",
    "\n",
    "for image_num in range(len(image_list)):\n",
    "    #Gets the Path to the Mask\n",
    "    certain_image_path = os.path.join(train_image_path, image_list[image_num])\n",
    "    image_img = Image.open(certain_image_path).convert('L')\n",
    "    image_pix = np.array(image_img.getdata()).reshape(image_img.size[0], image_img.size[1], 1)\n",
    "    X.append(image_pix)\n",
    "    X_images.append(image_img)\n",
    "\n",
    "for mask_num in range(len(mask_list)):\n",
    "    #Gets the Path to the Mask\n",
    "    certain_mask_path = os.path.join(train_mask_path, mask_list[mask_num])\n",
    "    mask_img = Image.open(certain_mask_path).convert('L')\n",
    "    mask_pix = np.array(mask_img.getdata()).reshape(mask_img.size[0], mask_img.size[1], 1)\n",
    "    y.append(mask_pix)\n",
    "    y_images.append(mask_img)\n",
    "    \n",
    "X = np.array(X, dtype = 'float32')\n",
    "y = np.array(y, dtype = 'float32')\n",
    "\n",
    "#Convert pixel values between 0 and 1. \n",
    "X = np.divide(X, 255)\n",
    "y = np.divide(y, 255)"
   ]
  },
  {
   "cell_type": "code",
   "execution_count": null,
   "metadata": {},
   "outputs": [],
   "source": []
  },
  {
   "cell_type": "code",
   "execution_count": null,
   "metadata": {},
   "outputs": [],
   "source": []
  },
  {
   "cell_type": "code",
   "execution_count": null,
   "metadata": {},
   "outputs": [],
   "source": []
  },
  {
   "cell_type": "code",
   "execution_count": 3,
   "metadata": {
    "scrolled": true
   },
   "outputs": [
    {
     "data": {
      "image/png": "[encoded data removed]",
      "text/plain": [
       "<PIL.Image.Image image mode=L size=101x101 at 0x12738320>"
      ]
     },
     "metadata": {},
     "output_type": "display_data"
    },
    {
     "data": {
      "image/png": "[encoded data removed]",
      "text/plain": [
       "<PIL.Image.Image image mode=L size=101x101 at 0x1B73BBE0>"
      ]
     },
     "metadata": {},
     "output_type": "display_data"
    }
   ],
   "source": [
    "#This is how data looks. \n",
    "#The top is the what we need to seperate salt from sediment.\n",
    "#The bottom is the mask or label we need to predict. \n",
    "display(X_images[10], y_images[10])"
   ]
  },
  {
   "cell_type": "code",
   "execution_count": 4,
   "metadata": {},
   "outputs": [
    {
     "data": {
      "text/plain": [
       "(4000, 101, 101, 1)"
      ]
     },
     "execution_count": 4,
     "metadata": {},
     "output_type": "execute_result"
    }
   ],
   "source": [
    "X.shape"
   ]
  },
  {
   "cell_type": "code",
   "execution_count": 5,
   "metadata": {
    "scrolled": true
   },
   "outputs": [
    {
     "data": {
      "text/plain": [
       "(101, 101, 1)"
      ]
     },
     "execution_count": 5,
     "metadata": {},
     "output_type": "execute_result"
    }
   ],
   "source": [
    "X[10].shape"
   ]
  },
  {
   "cell_type": "code",
   "execution_count": null,
   "metadata": {},
   "outputs": [],
   "source": []
  },
  {
   "cell_type": "code",
   "execution_count": null,
   "metadata": {},
   "outputs": [],
   "source": []
  },
  {
   "cell_type": "code",
   "execution_count": 6,
   "metadata": {
    "scrolled": false
   },
   "outputs": [
    {
     "name": "stderr",
     "output_type": "stream",
     "text": [
      "C:\\Users\\uschlac\\AppData\\Local\\Continuum\\anaconda3\\envs\\tensorflow\\lib\\site-packages\\sklearn\\model_selection\\_split.py:2069: FutureWarning: From version 0.21, test_size will always complement train_size unless both are specified.\n",
      "  FutureWarning)\n"
     ]
    }
   ],
   "source": [
    "X_train, X_val, y_train, y_val = train_test_split(X, y, train_size = 0.5, shuffle = True)"
   ]
  },
  {
   "cell_type": "code",
   "execution_count": 7,
   "metadata": {},
   "outputs": [
    {
     "data": {
      "text/plain": [
       "(2000, 101, 101, 1)"
      ]
     },
     "execution_count": 7,
     "metadata": {},
     "output_type": "execute_result"
    }
   ],
   "source": [
    "X_train.shape"
   ]
  },
  {
   "cell_type": "code",
   "execution_count": null,
   "metadata": {},
   "outputs": [],
   "source": []
  },
  {
   "cell_type": "code",
   "execution_count": null,
   "metadata": {},
   "outputs": [],
   "source": []
  },
  {
   "cell_type": "code",
   "execution_count": 8,
   "metadata": {},
   "outputs": [
    {
     "data": {
      "text/plain": [
       "<function keras.backend.tensorflow_backend.clear_session()>"
      ]
     },
     "execution_count": 8,
     "metadata": {},
     "output_type": "execute_result"
    }
   ],
   "source": [
    "K.clear_session"
   ]
  },
  {
   "cell_type": "code",
   "execution_count": null,
   "metadata": {
    "scrolled": true
   },
   "outputs": [],
   "source": [
    "num_pixels = X_train.shape[1] * X_train.shape[2]\n",
    "num_classes = y_val.shape[1]\n",
    "\n",
    "def simple_cnn_model():\n",
    "    \n",
    "    # create model\n",
    "### YOUR TURN\n",
    "# Build a model that has 1 convolution layer, 1 max pooling, 1 dense, and output \n",
    "# Use 32 filters with 5x5 size\n",
    "# For max pooling layer, make the layer such that the featuremap size would be the half after the pooling layer\n",
    "# hint: you need to change the argument input_shape to (w,h,1) in the first conv layer\n",
    "# hint: you need Flatten() before the first dense layer\n",
    "    \n",
    "    \n",
    "    model = Sequential()\n",
    "    model.add(Conv2D(1, kernel_size = (1,1), activation = 'relu', input_shape = (X_train.shape[1], X_train.shape[2], 1)))\n",
    "    model.add(MaxPooling2D(pool_size=(1,1)))\n",
    "    model.add(Dropout(0.25))\n",
    "    \n",
    "    model.compile(loss= keras.losses.mean_squared_error , optimizer= 'adam' , metrics=['accuracy'])\n",
    "    return model\n",
    "    \n",
    "# build the model\n",
    "model = simple_cnn_model()\n",
    "\n",
    "# Fit the model\n",
    "\n",
    "t0 = time.time()\n",
    "log = model.fit(X_train, y_train, validation_data=(X_val, y_val), epochs=20, batch_size=15, verbose=1)\n",
    "t1 = time.time()\n",
    "print(t1-t0, \" seconds\")\n",
    "# Final evaluation of the model\n",
    "scores = model.evaluate(X_val, y_val, verbose=0)\n",
    "print(\"CNN Error: %.2f%%\" % (100-scores[1]*100))"
   ]
  },
  {
   "cell_type": "code",
   "execution_count": null,
   "metadata": {},
   "outputs": [],
   "source": [
    "import keras.backend as KerasBackend"
   ]
  },
  {
   "cell_type": "code",
   "execution_count": null,
   "metadata": {},
   "outputs": [],
   "source": [
    "def get_iou(y_true,y_pred):\n",
    "    keras.backend.tf.metrics.mean_iou(y_true,y_pred,num_classes=101)"
   ]
  },
  {
   "cell_type": "code",
   "execution_count": null,
   "metadata": {},
   "outputs": [],
   "source": [
    "keras.backend.tf.metrics.mean_iou"
   ]
  },
  {
   "cell_type": "code",
   "execution_count": null,
   "metadata": {},
   "outputs": [],
   "source": [
    "K.clear_session()"
   ]
  },
  {
   "cell_type": "code",
   "execution_count": null,
   "metadata": {},
   "outputs": [],
   "source": []
  },
  {
   "cell_type": "code",
   "execution_count": null,
   "metadata": {},
   "outputs": [],
   "source": [
    "preds = model.predict(X_val)"
   ]
  },
  {
   "cell_type": "code",
   "execution_count": null,
   "metadata": {
    "scrolled": true
   },
   "outputs": [],
   "source": [
    "pred = np.multiply(preds[0], 255)"
   ]
  },
  {
   "cell_type": "code",
   "execution_count": null,
   "metadata": {},
   "outputs": [],
   "source": [
    "cv2.imshow('sample',pred)\n"
   ]
  },
  {
   "cell_type": "code",
   "execution_count": null,
   "metadata": {},
   "outputs": [],
   "source": [
    "cv2.destroyAllWindows()"
   ]
  },
  {
   "cell_type": "code",
   "execution_count": null,
   "metadata": {},
   "outputs": [],
   "source": []
  },
  {
   "cell_type": "code",
   "execution_count": null,
   "metadata": {},
   "outputs": [],
   "source": [
    "K.clear_session()"
   ]
  },
  {
   "cell_type": "code",
   "execution_count": null,
   "metadata": {},
   "outputs": [],
   "source": [
    "num_pixels = X_train.shape[1] * X_train.shape[2]\n",
    "num_classes = y_val.shape[1]\n",
    "\n",
    "def simple_cnn_model():\n",
    "    \n",
    "    # create model\n",
    "### YOUR TURN\n",
    "# Build a model that has 1 convolution layer, 1 max pooling, 1 dense, and output \n",
    "# Use 32 filters with 5x5 size\n",
    "# For max pooling layer, make the layer such that the featuremap size would be the half after the pooling layer\n",
    "# hint: you need to change the argument input_shape to (w,h,1) in the first conv layer\n",
    "\n",
    "    \n",
    "    \n",
    "    model = Sequential()\n",
    "    model.add(Conv2D(32, kernel_size = (3,3),\n",
    "                     activation = 'relu',\n",
    "                     padding = 'same',\n",
    "                     input_shape = (X_train.shape[1], X_train.shape[2], 1)))\n",
    "\n",
    "    model.add(Conv2D(32, kernel_size = (3,3),\n",
    "                     padding = 'same',\n",
    "                     activation = 'relu'))\n",
    "    model.add(MaxPooling2D(pool_size=(2,2)))\n",
    "    model.add(Dropout(0.25))\n",
    "    \n",
    "    \n",
    "    model.add(Conv2DTranspose(filters=1, kernel_size=(3,3), strides=(2,2)))\n",
    "    \n",
    "    \n",
    "    \n",
    "    model.compile(loss= keras.losses.mean_squared_error , optimizer= 'adam' , metrics=['accuracy'])\n",
    "    return model\n",
    "    \n",
    "    \n",
    "    \n",
    "    \n",
    "model = simple_cnn_model()\n",
    "model.summary()\n",
    "model.fit(X_train, y_train, validation_data=(X_val, y_val), epochs=20, batch_size=15, verbose=1)\n",
    "# # build the model\n",
    "# model = simple_cnn_model()\n",
    "\n",
    "# # Fit the model\n",
    "\n",
    "# t0 = time.time()\n",
    "# log = model.fit(X_train, y_train, validation_data=(X_val, y_val), epochs=20, batch_size=15, verbose=1)\n",
    "# t1 = time.time()\n",
    "# print(t1-t0, \" seconds\")\n",
    "# # Final evaluation of the model\n",
    "# scores = model.evaluate(X_val, y_val, verbose=0)\n",
    "# print(\"CNN Error: %.2f%%\" % (100-scores[1]*100))"
   ]
  },
  {
   "cell_type": "code",
   "execution_count": null,
   "metadata": {},
   "outputs": [],
   "source": [
    "preds = model.predict(X_val)\n",
    "preds = np.multiply(preds, 255)"
   ]
  },
  {
   "cell_type": "code",
   "execution_count": null,
   "metadata": {},
   "outputs": [],
   "source": [
    "preds[1301].max()\n",
    "pred = preds[1301]"
   ]
  },
  {
   "cell_type": "code",
   "execution_count": null,
   "metadata": {},
   "outputs": [],
   "source": [
    "cv2.imshow('l' , np.array(pred, dtype = np.uint8 ))"
   ]
  },
  {
   "cell_type": "code",
   "execution_count": null,
   "metadata": {},
   "outputs": [],
   "source": [
    "cv2.destroyAllWindows()"
   ]
  },
  {
   "cell_type": "code",
   "execution_count": null,
   "metadata": {},
   "outputs": [],
   "source": []
  },
  {
   "cell_type": "code",
   "execution_count": null,
   "metadata": {},
   "outputs": [],
   "source": []
  },
  {
   "cell_type": "code",
   "execution_count": null,
   "metadata": {},
   "outputs": [],
   "source": []
  },
  {
   "cell_type": "code",
   "execution_count": null,
   "metadata": {},
   "outputs": [],
   "source": []
  },
  {
   "cell_type": "code",
   "execution_count": null,
   "metadata": {},
   "outputs": [],
   "source": []
  },
  {
   "cell_type": "code",
   "execution_count": null,
   "metadata": {},
   "outputs": [],
   "source": [
    "from IPython.display import Image\n",
    "Image(filename=r\"C:\\Users\\buckf\\Documents\\Practicum_2\\Presentation_Photos\\Network_Structure.JPG\")"
   ]
  },
  {
   "cell_type": "code",
   "execution_count": 10,
   "metadata": {},
   "outputs": [
    {
     "name": "stdout",
     "output_type": "stream",
     "text": [
      "_________________________________________________________________\n",
      "Layer (type)                 Output Shape              Param #   \n",
      "=================================================================\n",
      "conv2d_2 (Conv2D)            (None, 101, 101, 50)      500       \n",
      "_________________________________________________________________\n",
      "conv2d_3 (Conv2D)            (None, 101, 101, 50)      22550     \n",
      "_________________________________________________________________\n",
      "max_pooling2d_2 (MaxPooling2 (None, 33, 33, 50)        0         \n",
      "_________________________________________________________________\n",
      "zero_padding2d_1 (ZeroPaddin (None, 35, 35, 50)        0         \n",
      "_________________________________________________________________\n",
      "conv2d_4 (Conv2D)            (None, 35, 35, 50)        22550     \n",
      "_________________________________________________________________\n",
      "conv2d_5 (Conv2D)            (None, 35, 35, 50)        22550     \n",
      "_________________________________________________________________\n",
      "max_pooling2d_3 (MaxPooling2 (None, 11, 11, 50)        0         \n",
      "_________________________________________________________________\n",
      "conv2d_transpose_1 (Conv2DTr (None, 11, 11, 1)         451       \n",
      "_________________________________________________________________\n",
      "up_sampling2d_1 (UpSampling2 (None, 33, 33, 1)         0         \n",
      "_________________________________________________________________\n",
      "up_sampling2d_2 (UpSampling2 (None, 99, 99, 1)         0         \n",
      "_________________________________________________________________\n",
      "zero_padding2d_2 (ZeroPaddin (None, 101, 101, 1)       0         \n",
      "=================================================================\n",
      "Total params: 68,601\n",
      "Trainable params: 68,601\n",
      "Non-trainable params: 0\n",
      "_________________________________________________________________\n",
      "Train on 2000 samples, validate on 2000 samples\n",
      "Epoch 1/20\n",
      "2000/2000 [==============================] - 14s 7ms/step - loss: 0.1932 - acc: 0.7471 - val_loss: 0.1597 - val_acc: 0.7659\n",
      "Epoch 2/20\n",
      "2000/2000 [==============================] - 13s 6ms/step - loss: 0.1477 - acc: 0.7893 - val_loss: 0.1467 - val_acc: 0.8338\n",
      "Epoch 3/20\n",
      "2000/2000 [==============================] - 12s 6ms/step - loss: 0.1224 - acc: 0.8426 - val_loss: 0.1531 - val_acc: 0.7653\n",
      "Epoch 4/20\n",
      "2000/2000 [==============================] - 12s 6ms/step - loss: 0.1189 - acc: 0.8499 - val_loss: 0.1073 - val_acc: 0.8684\n",
      "Epoch 5/20\n",
      "2000/2000 [==============================] - 12s 6ms/step - loss: 0.1127 - acc: 0.8587 - val_loss: 0.1061 - val_acc: 0.8719\n",
      "Epoch 6/20\n",
      "2000/2000 [==============================] - 12s 6ms/step - loss: 0.1054 - acc: 0.8698 - val_loss: 0.1004 - val_acc: 0.8759\n",
      "Epoch 7/20\n",
      "2000/2000 [==============================] - 12s 6ms/step - loss: 0.1027 - acc: 0.8726 - val_loss: 0.1032 - val_acc: 0.8693\n",
      "Epoch 8/20\n",
      "2000/2000 [==============================] - 12s 6ms/step - loss: 0.0984 - acc: 0.8784 - val_loss: 0.1015 - val_acc: 0.8765\n",
      "Epoch 9/20\n",
      "2000/2000 [==============================] - 12s 6ms/step - loss: 0.0960 - acc: 0.8828 - val_loss: 0.1086 - val_acc: 0.8637\n",
      "Epoch 10/20\n",
      "2000/2000 [==============================] - 12s 6ms/step - loss: 0.0923 - acc: 0.8859 - val_loss: 0.0933 - val_acc: 0.8836\n",
      "Epoch 11/20\n",
      "2000/2000 [==============================] - 13s 6ms/step - loss: 0.0917 - acc: 0.8858 - val_loss: 0.0912 - val_acc: 0.8841\n",
      "Epoch 12/20\n",
      "2000/2000 [==============================] - 13s 6ms/step - loss: 0.0887 - acc: 0.8893 - val_loss: 0.1001 - val_acc: 0.8771\n",
      "Epoch 13/20\n",
      "2000/2000 [==============================] - 13s 6ms/step - loss: 0.0901 - acc: 0.8885 - val_loss: 0.0915 - val_acc: 0.8835\n",
      "Epoch 14/20\n",
      "2000/2000 [==============================] - 13s 6ms/step - loss: 0.0867 - acc: 0.8926 - val_loss: 0.1163 - val_acc: 0.8438\n",
      "Epoch 15/20\n",
      "2000/2000 [==============================] - 13s 6ms/step - loss: 0.0876 - acc: 0.8902 - val_loss: 0.0973 - val_acc: 0.8785\n",
      "Epoch 16/20\n",
      "2000/2000 [==============================] - 13s 6ms/step - loss: 0.0840 - acc: 0.8951 - val_loss: 0.0889 - val_acc: 0.8899\n",
      "Epoch 17/20\n",
      "2000/2000 [==============================] - 13s 6ms/step - loss: 0.0850 - acc: 0.8951 - val_loss: 0.0873 - val_acc: 0.8880\n",
      "Epoch 18/20\n",
      "2000/2000 [==============================] - 13s 6ms/step - loss: 0.0842 - acc: 0.8969 - val_loss: 0.0857 - val_acc: 0.8905\n",
      "Epoch 19/20\n",
      "2000/2000 [==============================] - 13s 6ms/step - loss: 0.0807 - acc: 0.8999 - val_loss: 0.0817 - val_acc: 0.8964\n",
      "Epoch 20/20\n",
      "2000/2000 [==============================] - 13s 6ms/step - loss: 0.0813 - acc: 0.8992 - val_loss: 0.0852 - val_acc: 0.8953\n"
     ]
    },
    {
     "data": {
      "text/plain": [
       "<keras.callbacks.History at 0x1c8fcf98>"
      ]
     },
     "execution_count": 10,
     "metadata": {},
     "output_type": "execute_result"
    }
   ],
   "source": [
    "num_pixels = X_train.shape[1] * X_train.shape[2]\n",
    "num_classes = y_val.shape[1]\n",
    "\n",
    "def simple_cnn_model():\n",
    "    \n",
    "    # create model\n",
    "### YOUR TURN\n",
    "# Build a model that has 1 convolution layer, 1 max pooling, 1 dense, and output \n",
    "# Use 32 filters with 5x5 size\n",
    "# For max pooling layer, make the layer such that the featuremap size would be the half after the pooling layer\n",
    "# hint: you need to change the argument input_shape to (w,h,1) in the first conv layer\n",
    "\n",
    "    \n",
    "    \n",
    "    model = Sequential()\n",
    "    \n",
    "    #Convolution 1:\n",
    "    model.add(Conv2D(50, kernel_size = (3,3),\n",
    "                     activation = 'relu',\n",
    "                     padding = 'same',\n",
    "                     input_shape = (X_train.shape[1], X_train.shape[2], 1)))\n",
    "    \n",
    "    #Convolution 2:\n",
    "    model.add(Conv2D(50, kernel_size= (3,3), activation='relu', padding='same'))\n",
    "    \n",
    "    \n",
    "    model.add(MaxPooling2D(pool_size=(3,3)))\n",
    "    \n",
    "    model.add(ZeroPadding2D(padding=(1,1)))\n",
    "    \n",
    "    #Convolution 3\n",
    "    model.add(Conv2D(50, kernel_size= (3,3), activation='relu', padding='same'))\n",
    "    \n",
    "    #Convolution 4\n",
    "    model.add(Conv2D(50, kernel_size= (3,3), activation='relu', padding='same'))\n",
    "    \n",
    "    #Max-Pool 2\n",
    "    model.add(MaxPooling2D(pool_size=(3,3)))\n",
    "    \n",
    "    \n",
    "    \n",
    "    \n",
    "    model.add(Conv2DTranspose(1, kernel_size= (3,3), activation='relu', padding='same'))\n",
    "    \n",
    "    \n",
    "    model.add(UpSampling2D(size=(3,3)))\n",
    "    \n",
    "    \n",
    "    \n",
    "    model.add(UpSampling2D(size=(3,3)))\n",
    "    model.add(ZeroPadding2D(padding=(1,1)))\n",
    "    \n",
    "    \n",
    "    \n",
    "    \n",
    "    model.compile(loss= keras.losses.mean_squared_error , optimizer= 'adam' , metrics=['accuracy'])\n",
    "    return model\n",
    "    \n",
    "    \n",
    "    \n",
    "    \n",
    "model = simple_cnn_model()\n",
    "model.summary()\n",
    "model.fit(X_train, y_train, validation_data=(X_val, y_val), epochs=20, batch_size=15, verbose=1)"
   ]
  },
  {
   "cell_type": "code",
   "execution_count": 14,
   "metadata": {},
   "outputs": [],
   "source": [
    "preds = model.predict(X_val)"
   ]
  },
  {
   "cell_type": "code",
   "execution_count": 15,
   "metadata": {},
   "outputs": [
    {
     "data": {
      "text/plain": [
       "array([[[[0.        ],\n",
       "         [0.        ],\n",
       "         [0.        ],\n",
       "         ...,\n",
       "         [0.        ],\n",
       "         [0.        ],\n",
       "         [0.        ]],\n",
       "\n",
       "        [[0.        ],\n",
       "         [0.        ],\n",
       "         [0.        ],\n",
       "         ...,\n",
       "         [0.        ],\n",
       "         [0.        ],\n",
       "         [0.        ]],\n",
       "\n",
       "        [[0.        ],\n",
       "         [0.        ],\n",
       "         [0.        ],\n",
       "         ...,\n",
       "         [0.        ],\n",
       "         [0.        ],\n",
       "         [0.        ]],\n",
       "\n",
       "        ...,\n",
       "\n",
       "        [[0.        ],\n",
       "         [0.2338571 ],\n",
       "         [0.2338571 ],\n",
       "         ...,\n",
       "         [0.02833684],\n",
       "         [0.02833684],\n",
       "         [0.        ]],\n",
       "\n",
       "        [[0.        ],\n",
       "         [0.2338571 ],\n",
       "         [0.2338571 ],\n",
       "         ...,\n",
       "         [0.02833684],\n",
       "         [0.02833684],\n",
       "         [0.        ]],\n",
       "\n",
       "        [[0.        ],\n",
       "         [0.        ],\n",
       "         [0.        ],\n",
       "         ...,\n",
       "         [0.        ],\n",
       "         [0.        ],\n",
       "         [0.        ]]],\n",
       "\n",
       "\n",
       "       [[[0.        ],\n",
       "         [0.        ],\n",
       "         [0.        ],\n",
       "         ...,\n",
       "         [0.        ],\n",
       "         [0.        ],\n",
       "         [0.        ]],\n",
       "\n",
       "        [[0.        ],\n",
       "         [0.14817777],\n",
       "         [0.14817777],\n",
       "         ...,\n",
       "         [0.        ],\n",
       "         [0.        ],\n",
       "         [0.        ]],\n",
       "\n",
       "        [[0.        ],\n",
       "         [0.14817777],\n",
       "         [0.14817777],\n",
       "         ...,\n",
       "         [0.        ],\n",
       "         [0.        ],\n",
       "         [0.        ]],\n",
       "\n",
       "        ...,\n",
       "\n",
       "        [[0.        ],\n",
       "         [0.39296028],\n",
       "         [0.39296028],\n",
       "         ...,\n",
       "         [0.23498371],\n",
       "         [0.23498371],\n",
       "         [0.        ]],\n",
       "\n",
       "        [[0.        ],\n",
       "         [0.39296028],\n",
       "         [0.39296028],\n",
       "         ...,\n",
       "         [0.23498371],\n",
       "         [0.23498371],\n",
       "         [0.        ]],\n",
       "\n",
       "        [[0.        ],\n",
       "         [0.        ],\n",
       "         [0.        ],\n",
       "         ...,\n",
       "         [0.        ],\n",
       "         [0.        ],\n",
       "         [0.        ]]],\n",
       "\n",
       "\n",
       "       [[[0.        ],\n",
       "         [0.        ],\n",
       "         [0.        ],\n",
       "         ...,\n",
       "         [0.        ],\n",
       "         [0.        ],\n",
       "         [0.        ]],\n",
       "\n",
       "        [[0.        ],\n",
       "         [0.35317004],\n",
       "         [0.35317004],\n",
       "         ...,\n",
       "         [0.17301416],\n",
       "         [0.17301416],\n",
       "         [0.        ]],\n",
       "\n",
       "        [[0.        ],\n",
       "         [0.35317004],\n",
       "         [0.35317004],\n",
       "         ...,\n",
       "         [0.17301416],\n",
       "         [0.17301416],\n",
       "         [0.        ]],\n",
       "\n",
       "        ...,\n",
       "\n",
       "        [[0.        ],\n",
       "         [0.20539626],\n",
       "         [0.20539626],\n",
       "         ...,\n",
       "         [0.4158294 ],\n",
       "         [0.4158294 ],\n",
       "         [0.        ]],\n",
       "\n",
       "        [[0.        ],\n",
       "         [0.20539626],\n",
       "         [0.20539626],\n",
       "         ...,\n",
       "         [0.4158294 ],\n",
       "         [0.4158294 ],\n",
       "         [0.        ]],\n",
       "\n",
       "        [[0.        ],\n",
       "         [0.        ],\n",
       "         [0.        ],\n",
       "         ...,\n",
       "         [0.        ],\n",
       "         [0.        ],\n",
       "         [0.        ]]],\n",
       "\n",
       "\n",
       "       ...,\n",
       "\n",
       "\n",
       "       [[[0.        ],\n",
       "         [0.        ],\n",
       "         [0.        ],\n",
       "         ...,\n",
       "         [0.        ],\n",
       "         [0.        ],\n",
       "         [0.        ]],\n",
       "\n",
       "        [[0.        ],\n",
       "         [0.94259965],\n",
       "         [0.94259965],\n",
       "         ...,\n",
       "         [0.904375  ],\n",
       "         [0.904375  ],\n",
       "         [0.        ]],\n",
       "\n",
       "        [[0.        ],\n",
       "         [0.94259965],\n",
       "         [0.94259965],\n",
       "         ...,\n",
       "         [0.904375  ],\n",
       "         [0.904375  ],\n",
       "         [0.        ]],\n",
       "\n",
       "        ...,\n",
       "\n",
       "        [[0.        ],\n",
       "         [0.27713317],\n",
       "         [0.27713317],\n",
       "         ...,\n",
       "         [0.11918051],\n",
       "         [0.11918051],\n",
       "         [0.        ]],\n",
       "\n",
       "        [[0.        ],\n",
       "         [0.27713317],\n",
       "         [0.27713317],\n",
       "         ...,\n",
       "         [0.11918051],\n",
       "         [0.11918051],\n",
       "         [0.        ]],\n",
       "\n",
       "        [[0.        ],\n",
       "         [0.        ],\n",
       "         [0.        ],\n",
       "         ...,\n",
       "         [0.        ],\n",
       "         [0.        ],\n",
       "         [0.        ]]],\n",
       "\n",
       "\n",
       "       [[[0.        ],\n",
       "         [0.        ],\n",
       "         [0.        ],\n",
       "         ...,\n",
       "         [0.        ],\n",
       "         [0.        ],\n",
       "         [0.        ]],\n",
       "\n",
       "        [[0.        ],\n",
       "         [0.14706461],\n",
       "         [0.14706461],\n",
       "         ...,\n",
       "         [0.18102786],\n",
       "         [0.18102786],\n",
       "         [0.        ]],\n",
       "\n",
       "        [[0.        ],\n",
       "         [0.14706461],\n",
       "         [0.14706461],\n",
       "         ...,\n",
       "         [0.18102786],\n",
       "         [0.18102786],\n",
       "         [0.        ]],\n",
       "\n",
       "        ...,\n",
       "\n",
       "        [[0.        ],\n",
       "         [0.0502213 ],\n",
       "         [0.0502213 ],\n",
       "         ...,\n",
       "         [0.17330676],\n",
       "         [0.17330676],\n",
       "         [0.        ]],\n",
       "\n",
       "        [[0.        ],\n",
       "         [0.0502213 ],\n",
       "         [0.0502213 ],\n",
       "         ...,\n",
       "         [0.17330676],\n",
       "         [0.17330676],\n",
       "         [0.        ]],\n",
       "\n",
       "        [[0.        ],\n",
       "         [0.        ],\n",
       "         [0.        ],\n",
       "         ...,\n",
       "         [0.        ],\n",
       "         [0.        ],\n",
       "         [0.        ]]],\n",
       "\n",
       "\n",
       "       [[[0.        ],\n",
       "         [0.        ],\n",
       "         [0.        ],\n",
       "         ...,\n",
       "         [0.        ],\n",
       "         [0.        ],\n",
       "         [0.        ]],\n",
       "\n",
       "        [[0.        ],\n",
       "         [0.17390582],\n",
       "         [0.17390582],\n",
       "         ...,\n",
       "         [0.        ],\n",
       "         [0.        ],\n",
       "         [0.        ]],\n",
       "\n",
       "        [[0.        ],\n",
       "         [0.17390582],\n",
       "         [0.17390582],\n",
       "         ...,\n",
       "         [0.        ],\n",
       "         [0.        ],\n",
       "         [0.        ]],\n",
       "\n",
       "        ...,\n",
       "\n",
       "        [[0.        ],\n",
       "         [0.30588448],\n",
       "         [0.30588448],\n",
       "         ...,\n",
       "         [0.18544614],\n",
       "         [0.18544614],\n",
       "         [0.        ]],\n",
       "\n",
       "        [[0.        ],\n",
       "         [0.30588448],\n",
       "         [0.30588448],\n",
       "         ...,\n",
       "         [0.18544614],\n",
       "         [0.18544614],\n",
       "         [0.        ]],\n",
       "\n",
       "        [[0.        ],\n",
       "         [0.        ],\n",
       "         [0.        ],\n",
       "         ...,\n",
       "         [0.        ],\n",
       "         [0.        ],\n",
       "         [0.        ]]]], dtype=float32)"
      ]
     },
     "execution_count": 15,
     "metadata": {},
     "output_type": "execute_result"
    }
   ],
   "source": [
    "preds"
   ]
  },
  {
   "cell_type": "code",
   "execution_count": 21,
   "metadata": {},
   "outputs": [
    {
     "ename": "NameError",
     "evalue": "name 'utf8' is not defined",
     "output_type": "error",
     "traceback": [
      "\u001b[1;31m---------------------------------------------------------------------------\u001b[0m",
      "\u001b[1;31mNameError\u001b[0m                                 Traceback (most recent call last)",
      "\u001b[1;32m<ipython-input-21-4e89cc1bd7c8>\u001b[0m in \u001b[0;36m<module>\u001b[1;34m()\u001b[0m\n\u001b[1;32m----> 1\u001b[1;33m \u001b[0mpreds\u001b[0m\u001b[1;33m.\u001b[0m\u001b[0mastype\u001b[0m\u001b[1;33m(\u001b[0m\u001b[0mutf8\u001b[0m\u001b[1;33m)\u001b[0m\u001b[1;33m\u001b[0m\u001b[0m\n\u001b[0m",
      "\u001b[1;31mNameError\u001b[0m: name 'utf8' is not defined"
     ]
    }
   ],
   "source": [
    "preds.astype(utf8)"
   ]
  },
  {
   "cell_type": "code",
   "execution_count": null,
   "metadata": {},
   "outputs": [],
   "source": []
  },
  {
   "cell_type": "code",
   "execution_count": 24,
   "metadata": {},
   "outputs": [],
   "source": [
    "pred = preds[0]"
   ]
  },
  {
   "cell_type": "code",
   "execution_count": 26,
   "metadata": {
    "scrolled": true
   },
   "outputs": [
    {
     "data": {
      "text/plain": [
       "dtype('float32')"
      ]
     },
     "execution_count": 26,
     "metadata": {},
     "output_type": "execute_result"
    }
   ],
   "source": [
    "pred.dtype"
   ]
  },
  {
   "cell_type": "code",
   "execution_count": 36,
   "metadata": {
    "scrolled": true
   },
   "outputs": [],
   "source": [
    "pred = pred.astype('uint8')"
   ]
  },
  {
   "cell_type": "code",
   "execution_count": 37,
   "metadata": {},
   "outputs": [
    {
     "data": {
      "text/plain": [
       "254"
      ]
     },
     "execution_count": 37,
     "metadata": {},
     "output_type": "execute_result"
    }
   ],
   "source": [
    "pred = np.multiply(pred, 255)\n",
    "pred.max()"
   ]
  },
  {
   "cell_type": "code",
   "execution_count": null,
   "metadata": {},
   "outputs": [],
   "source": [
    "cv2.imshow('sample', pred)\n",
    "cv2.waitKey(0)"
   ]
  },
  {
   "cell_type": "code",
   "execution_count": null,
   "metadata": {},
   "outputs": [],
   "source": [
    "cv2.destroyAllWindows()"
   ]
  },
  {
   "cell_type": "code",
   "execution_count": null,
   "metadata": {},
   "outputs": [],
   "source": []
  },
  {
   "cell_type": "code",
   "execution_count": null,
   "metadata": {},
   "outputs": [],
   "source": [
    "num_pixels = X_train.shape[1] * X_train.shape[2]\n",
    "num_classes = y_val.shape[1]\n",
    "\n",
    "def simple_cnn_model():\n",
    "    \n",
    "    # create model\n",
    "### YOUR TURN\n",
    "# Build a model that has 1 convolution layer, 1 max pooling, 1 dense, and output \n",
    "# Use 32 filters with 5x5 size\n",
    "# For max pooling layer, make the layer such that the featuremap size would be the half after the pooling layer\n",
    "# hint: you need to change the argument input_shape to (w,h,1) in the first conv layer\n",
    "\n",
    "    \n",
    "    \n",
    "    model = Sequential()\n",
    "    model.add(Conv2D(32, kernel_size = (3,3),\n",
    "                     activation = 'relu',\n",
    "                     padding = 'same',\n",
    "                     input_shape = (X_train.shape[1], X_train.shape[2], 1)))\n",
    "\n",
    "    model.add(Conv2D(32, kernel_size = (3,3),\n",
    "                     padding = 'same',\n",
    "                     activation = 'relu'))\n",
    "    model.add(MaxPooling2D(pool_size=(2,2)))\n",
    "    model.add(Dropout(0.25))\n",
    "    \n",
    "    \n",
    "    \n",
    "    \n",
    "    \n",
    "    \n",
    "    model.compile(loss= keras.losses.mean_squared_error , optimizer= 'adam' , metrics=['accuracy'])\n",
    "    return model\n",
    "    \n",
    "    \n",
    "    \n",
    "    \n",
    "model = simple_cnn_model()\n",
    "model.summary()\n",
    "model.fit(X_train, y_train, validation_data=(X_val, y_val), epochs=20, batch_size=15, verbose=1)\n",
    "# # build the model\n",
    "# model = simple_cnn_model()\n",
    "\n",
    "# # Fit the model\n",
    "\n",
    "# t0 = time.time()\n",
    "# log = model.fit(X_train, y_train, validation_data=(X_val, y_val), epochs=20, batch_size=15, verbose=1)\n",
    "# t1 = time.time()\n",
    "# print(t1-t0, \" seconds\")\n",
    "# # Final evaluation of the model\n",
    "# scores = model.evaluate(X_val, y_val, verbose=0)\n",
    "# print(\"CNN Error: %.2f%%\" % (100-scores[1]*100))"
   ]
  },
  {
   "cell_type": "code",
   "execution_count": null,
   "metadata": {},
   "outputs": [],
   "source": []
  },
  {
   "cell_type": "code",
   "execution_count": null,
   "metadata": {},
   "outputs": [],
   "source": []
  },
  {
   "cell_type": "code",
   "execution_count": null,
   "metadata": {},
   "outputs": [],
   "source": []
  },
  {
   "cell_type": "code",
   "execution_count": null,
   "metadata": {},
   "outputs": [],
   "source": []
  },
  {
   "cell_type": "code",
   "execution_count": null,
   "metadata": {},
   "outputs": [],
   "source": []
  },
  {
   "cell_type": "code",
   "execution_count": null,
   "metadata": {},
   "outputs": [],
   "source": [
    "# score.py\n",
    "import os\n",
    "#import settings\n",
    "from tqdm import tqdm\n",
    "from skimage.io import imread\n",
    "import numpy as np\n",
    "import metrics\n",
    "from keras.models import Model, load_model\n",
    "from skimage.morphology import label\n",
    "from skimage.transform import resize\n",
    "\n",
    "# Settings\n",
    "max_number_of_samples = 50 # this sets how many samples of the full training set to look at, this is not random, just the first N samples\n",
    "model_file = \"model-dsbowl2018-3.h5\"\n",
    "X_train_file = \"X_train_256_256.npy\"\n",
    "\n",
    "# Define the object by object mean IOU calculation for a given image\n",
    "def object_mean_iou(y_labeled_true, y_labeled_pred):\n",
    "    num_y_labeled_true = y_labeled_true.max()\n",
    "    num_y_labeled_pred = y_labeled_pred.max()\n",
    "    threshold_ious = []\n",
    "    for threshold in [0.5, 0.55, 0.6, 0.65, 0.7, 0.75, 0.8, 0.85, 0.9, 0.95]:\n",
    "        true_positives = 0\n",
    "        false_negative = 0\n",
    "        pred_obj_preload = []\n",
    "        pred_obj_size = []\n",
    "        for predicted_object_id in range(1, num_y_labeled_pred + 1):\n",
    "            pred_obj = y_labeled_pred == predicted_object_id\n",
    "            pred_obj_preload.append(pred_obj)\n",
    "            pred_obj_size.append(np.count_nonzero(pred_obj))\n",
    "        # a true positive for given threshold is when a _single_ object in the prediction corresponds to a given true object\n",
    "        for true_object_id in range(1, num_y_labeled_true + 1):\n",
    "            true_obj = y_labeled_true == true_object_id\n",
    "            true_obj_size = np.count_nonzero(true_obj)\n",
    "            matches = 0\n",
    "            for predicted_object_id in range(1, num_y_labeled_pred + 1):\n",
    "                # calculate the iou for this object and the true object\n",
    "                this_pred_obj = pred_obj_preload[predicted_object_id-1]\n",
    "                this_pred_obj_size = pred_obj_size[predicted_object_id-1]\n",
    "                intersection = np.count_nonzero(true_obj & this_pred_obj)\n",
    "                union = true_obj_size + this_pred_obj_size - intersection\n",
    "                iou = intersection / union\n",
    "                if iou > threshold:\n",
    "                    matches += 1\n",
    "            if matches == 1:\n",
    "                true_positives += 1\n",
    "            if matches == 0:\n",
    "                false_negative += 1\n",
    "        false_positive = num_y_labeled_pred - true_positives\n",
    "        threshold_ious.append(true_positives / (true_positives + false_positive + false_negative))\n",
    "    return sum(threshold_ious) / len(threshold_ious)\n",
    "\n",
    "train_ids = next(os.walk(settings.TRAIN_PATH))[1][:max_number_of_samples]\n",
    "# this is the 256x256 training data already loaded into a numpy array and resized\n",
    "X_train = np.load(X_train_file)[:max_number_of_samples]\n",
    "# this is the true sizes of the training images for upsampling the masks after prediction\n",
    "sizes_train = np.load(\"sizes_train.npy\")\n",
    "\n",
    "# Get and resize train images and masks\n",
    "Y_labeled_true = []\n",
    "IMG_CHANNELS = settings.IMG_CHANNELS\n",
    "print('Loading true masks ...')\n",
    "for n, id_ in tqdm(enumerate(train_ids), total=len(train_ids)):\n",
    "    path = settings.TRAIN_PATH + id_\n",
    "    img = imread(path + '/images/' + id_ + '.png')[:,:,:IMG_CHANNELS]\n",
    "    mask = np.zeros((img.shape[0], img.shape[1], 1), dtype=np.bool)\n",
    "    next_object_number = 1\n",
    "    for mask_file in next(os.walk(path + '/masks/'))[2]:\n",
    "        mask_ = imread(path + '/masks/' + mask_file)\n",
    "        mask_ = next_object_number * (np.expand_dims(mask_, axis=-1) // 255)\n",
    "        mask = np.maximum(mask, mask_)\n",
    "        next_object_number += 1\n",
    "    Y_labeled_true.append(np.squeeze(mask, -1))\n",
    "\n",
    "# Use the same labeling methodology here that you use before submitting\n",
    "model = load_model(model_file, custom_objects={\"mean_iou\": metrics.mean_iou, \"mean_iou2\": metrics.mean_iou2})\n",
    "preds_train = model.predict(X_train, verbose=1)\n",
    "preds_train_t = (preds_train > 0.5).astype(np.uint8)\n",
    "\n",
    "# Create list of upsampled test masks\n",
    "preds_test_upsampled = []\n",
    "for i in range(len(preds_train_t)):\n",
    "    preds_test_upsampled.append(resize(np.squeeze(preds_train_t[i]), \n",
    "                                       (sizes_train[i][0], sizes_train[i][1]), \n",
    "                                       mode='constant', preserve_range=True))\n",
    "Y_labeled_pred = [label(pred) for pred in preds_test_upsampled]\n",
    "\n",
    "images_iou = []\n",
    "for n in range(len(Y_labeled_true)):\n",
    "    image_iou = object_mean_iou(Y_labeled_true[n], Y_labeled_pred[n])\n",
    "    print(\"Image \" + str(n) + \" IOU: \" + str(image_iou))\n",
    "    images_iou.append(image_iou)\n",
    "print(\"mIOU (LB) Score: \" + str(sum(images_iou) / len(images_iou)))\n"
   ]
  },
  {
   "cell_type": "code",
   "execution_count": null,
   "metadata": {},
   "outputs": [],
   "source": []
  },
  {
   "cell_type": "code",
   "execution_count": null,
   "metadata": {},
   "outputs": [],
   "source": []
  },
  {
   "cell_type": "code",
   "execution_count": null,
   "metadata": {},
   "outputs": [],
   "source": []
  },
  {
   "cell_type": "code",
   "execution_count": null,
   "metadata": {},
   "outputs": [],
   "source": []
  },
  {
   "cell_type": "code",
   "execution_count": null,
   "metadata": {},
   "outputs": [],
   "source": []
  },
  {
   "cell_type": "code",
   "execution_count": null,
   "metadata": {},
   "outputs": [],
   "source": [
    "num_pixels = X_train.shape[1] * X_train.shape[2]\n",
    "num_classes = y_val.shape[1]\n",
    "\n",
    "def simple_cnn_model():\n",
    "    \n",
    "    # create model\n",
    "### YOUR TURN\n",
    "# Build a model that has 1 convolution layer, 1 max pooling, 1 dense, and output \n",
    "# Use 32 filters with 5x5 size\n",
    "# For max pooling layer, make the layer such that the featuremap size would be the half after the pooling layer\n",
    "# hint: you need to change the argument input_shape to (w,h,1) in the first conv layer\n",
    "\n",
    "    \n",
    "    \n",
    "    model = Sequential()\n",
    "    model.add(Conv2D(32, kernel_size = (3,3),\n",
    "                     activation = 'relu',\n",
    "                     padding = 'same',\n",
    "                     input_shape = (X_train.shape[1], X_train.shape[2], 1)))\n",
    "\n",
    "    model.add(Conv2D(32, kernel_size = (3,3),\n",
    "                     padding = 'same',\n",
    "                     activation = 'relu'))\n",
    "    model.add(MaxPooling2D(pool_size=(2,2)))\n",
    "    model.add(Dropout(0.25))\n",
    "    \n",
    "    \n",
    "    model.add(Conv2DTranspose(filters=1, kernel_size=(3,3), strides=(2,2)))\n",
    "    \n",
    "    \n",
    "    \n",
    "    model.compile(loss= keras.losses.mean_squared_error , optimizer= 'adam' , metrics=['accuracy'])\n",
    "    return model\n",
    "    \n",
    "    \n",
    "    \n",
    "    \n",
    "model = simple_cnn_model()\n",
    "model.summary()\n",
    "model.fit(X_train, y_train, validation_data=(X_val, y_val), epochs=20, batch_size=15, verbose=1)\n",
    "# # build the model\n",
    "# model = simple_cnn_model()\n",
    "\n",
    "# # Fit the model\n",
    "\n",
    "# t0 = time.time()\n",
    "# log = model.fit(X_train, y_train, validation_data=(X_val, y_val), epochs=20, batch_size=15, verbose=1)\n",
    "# t1 = time.time()\n",
    "# print(t1-t0, \" seconds\")\n",
    "# # Final evaluation of the model\n",
    "# scores = model.evaluate(X_val, y_val, verbose=0)\n",
    "# print(\"CNN Error: %.2f%%\" % (100-scores[1]*100))"
   ]
  },
  {
   "cell_type": "code",
   "execution_count": null,
   "metadata": {},
   "outputs": [],
   "source": []
  },
  {
   "cell_type": "code",
   "execution_count": null,
   "metadata": {},
   "outputs": [],
   "source": []
  },
  {
   "cell_type": "code",
   "execution_count": null,
   "metadata": {},
   "outputs": [],
   "source": []
  }
 ],
 "metadata": {
  "kernelspec": {
   "display_name": "Python [default]",
   "language": "python",
   "name": "python3"
  },
  "language_info": {
   "codemirror_mode": {
    "name": "ipython",
    "version": 3
   },
   "file_extension": ".py",
   "mimetype": "text/x-python",
   "name": "python",
   "nbconvert_exporter": "python",
   "pygments_lexer": "ipython3",
   "version": "3.5.5"
  }
 },
 "nbformat": 4,
 "nbformat_minor": 2
}
