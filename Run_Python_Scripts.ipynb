{
 "cells": [
  {
   "cell_type": "code",
   "execution_count": 1,
   "metadata": {},
   "outputs": [
    {
     "name": "stderr",
     "output_type": "stream",
     "text": [
      "Using TensorFlow backend.\n"
     ]
    },
    {
     "name": "stdout",
     "output_type": "stream",
     "text": [
      "Getting and resizing train images and masks ... \n"
     ]
    },
    {
     "data": {
      "application/vnd.jupyter.widget-view+json": {
       "model_id": "a4a97e2d5b7248e4969e5d9799fe3c3d",
       "version_major": 2,
       "version_minor": 0
      },
      "text/plain": [
       "HBox(children=(IntProgress(value=0, max=4000), HTML(value='')))"
      ]
     },
     "metadata": {},
     "output_type": "display_data"
    },
    {
     "name": "stdout",
     "output_type": "stream",
     "text": [
      "\n",
      "Done!\n"
     ]
    }
   ],
   "source": [
    "from data_loader import data_importing\n",
    "training = r'C:\\Users\\uschlac\\Documents\\Practicum\\Practicum_2\\Salt_Deposit_Identification-master\\Data\\train'\n",
    "testing = r'C:\\Users\\uschlac\\Documents\\Practicum\\Practicum_2\\Salt_Deposit_Identification-master\\Data\\test'\n",
    "\n",
    "# This Function inputs the training images and masks directory,\n",
    "# and test images and rezises the images and returns the numpy arrays that are\n",
    "# resized from 101 x 101 to 128 x 128.\n",
    "X_train, Y_train = data_importing(path_train=training, path_test=testing)"
   ]
  },
  {
   "cell_type": "code",
   "execution_count": 2,
   "metadata": {},
   "outputs": [
    {
     "name": "stdout",
     "output_type": "stream",
     "text": [
      "Initialised with 4000 image(s) found.\n",
      "Output directory set to C:\\Users\\uschlac\\Documents\\Practicum\\Practicum_2\\Salt_Deposit_Identification-master\\Data\\train\\images\\output."
     ]
    },
    {
     "name": "stderr",
     "output_type": "stream",
     "text": [
      "                                                         \r"
     ]
    },
    {
     "name": "stdout",
     "output_type": "stream",
     "text": [
      "4000 ground truth image(s) found.\n"
     ]
    },
    {
     "name": "stderr",
     "output_type": "stream",
     "text": [
      "Processing <PIL.Image.Image image mode=RGB size=101x101 at 0x18FB5668>: 100%|██████████| 1000/1000 [00:04<00:00, 201.73 Samples/s]\n"
     ]
    },
    {
     "name": "stdout",
     "output_type": "stream",
     "text": [
      "Getting and resizing train images and masks ... \n"
     ]
    },
    {
     "data": {
      "application/vnd.jupyter.widget-view+json": {
       "model_id": "c2cbbc480fb149eda7c71d6a66e03708",
       "version_major": 2,
       "version_minor": 0
      },
      "text/plain": [
       "HBox(children=(IntProgress(value=0, max=1000), HTML(value='')))"
      ]
     },
     "metadata": {},
     "output_type": "display_data"
    },
    {
     "name": "stdout",
     "output_type": "stream",
     "text": [
      "\n"
     ]
    },
    {
     "data": {
      "application/vnd.jupyter.widget-view+json": {
       "model_id": "e437c89c9cf543d4b9ac84af40e07abc",
       "version_major": 2,
       "version_minor": 0
      },
      "text/plain": [
       "HBox(children=(IntProgress(value=0, max=1000), HTML(value='')))"
      ]
     },
     "metadata": {},
     "output_type": "display_data"
    },
    {
     "name": "stdout",
     "output_type": "stream",
     "text": [
      "\n",
      "Done!\n"
     ]
    }
   ],
   "source": [
    "from image_augmentor import aug\n",
    "train_image_path = r\"C:\\Users\\uschlac\\Documents\\Practicum\\Practicum_2\\Salt_Deposit_Identification-master\\Data\\train\\images\"\n",
    "train_mask_path = r\"C:\\Users\\uschlac\\Documents\\Practicum\\Practicum_2\\Salt_Deposit_Identification-master\\Data\\train\\masks\"\n",
    "path_train = r'C:\\Users\\uschlac\\Documents\\Practicum\\Practicum_2\\Salt_Deposit_Identification-master\\Data\\train'\n",
    "num_images_augmented = 1000\n",
    "\n",
    "\n",
    "Aug_X_train, Aug_Y_train = aug(train_image_path=train_image_path,\n",
    "                               train_mask_path=train_mask_path,\n",
    "                               path_train=path_train,\n",
    "                              num_images_augmented=num_images_augmented)"
   ]
  },
  {
   "cell_type": "code",
   "execution_count": 3,
   "metadata": {},
   "outputs": [],
   "source": [
    "import numpy as np\n",
    "X_train = np.concatenate((X_train, Aug_X_train), axis=0)\n",
    "Y_train = np.concatenate((Y_train, Aug_Y_train), axis=0)\n",
    "\n",
    "# Let's use the first 350 images from our trainset for our test sample.\n",
    "X_test_out_of_train = X_train[:350]\n",
    "y_test_out_of_train = Y_train[:350]\n",
    "\n",
    "\n",
    "X_train_w_aug = X_train[350:]\n",
    "y_train_w_aug = Y_train[350:]"
   ]
  },
  {
   "cell_type": "code",
   "execution_count": 4,
   "metadata": {},
   "outputs": [],
   "source": [
    "from Modeling import UNET_MODEL"
   ]
  },
  {
   "cell_type": "code",
   "execution_count": 5,
   "metadata": {
    "scrolled": true
   },
   "outputs": [
    {
     "name": "stdout",
     "output_type": "stream",
     "text": [
      "__________________________________________________________________________________________________\n",
      "Layer (type)                    Output Shape         Param #     Connected to                     \n",
      "==================================================================================================\n",
      "input_1 (InputLayer)            (None, 128, 128, 1)  0                                            \n",
      "__________________________________________________________________________________________________\n",
      "lambda_1 (Lambda)               (None, 128, 128, 1)  0           input_1[0][0]                    \n",
      "__________________________________________________________________________________________________\n",
      "conv2d_1 (Conv2D)               (None, 128, 128, 8)  80          lambda_1[0][0]                   \n",
      "__________________________________________________________________________________________________\n",
      "conv2d_2 (Conv2D)               (None, 128, 128, 8)  584         conv2d_1[0][0]                   \n",
      "__________________________________________________________________________________________________\n",
      "max_pooling2d_1 (MaxPooling2D)  (None, 64, 64, 8)    0           conv2d_2[0][0]                   \n",
      "__________________________________________________________________________________________________\n",
      "conv2d_3 (Conv2D)               (None, 64, 64, 16)   1168        max_pooling2d_1[0][0]            \n",
      "__________________________________________________________________________________________________\n",
      "conv2d_4 (Conv2D)               (None, 64, 64, 16)   2320        conv2d_3[0][0]                   \n",
      "__________________________________________________________________________________________________\n",
      "max_pooling2d_2 (MaxPooling2D)  (None, 32, 32, 16)   0           conv2d_4[0][0]                   \n",
      "__________________________________________________________________________________________________\n",
      "conv2d_5 (Conv2D)               (None, 32, 32, 32)   4640        max_pooling2d_2[0][0]            \n",
      "__________________________________________________________________________________________________\n",
      "conv2d_6 (Conv2D)               (None, 32, 32, 32)   9248        conv2d_5[0][0]                   \n",
      "__________________________________________________________________________________________________\n",
      "max_pooling2d_3 (MaxPooling2D)  (None, 16, 16, 32)   0           conv2d_6[0][0]                   \n",
      "__________________________________________________________________________________________________\n",
      "conv2d_7 (Conv2D)               (None, 16, 16, 64)   18496       max_pooling2d_3[0][0]            \n",
      "__________________________________________________________________________________________________\n",
      "conv2d_8 (Conv2D)               (None, 16, 16, 64)   36928       conv2d_7[0][0]                   \n",
      "__________________________________________________________________________________________________\n",
      "max_pooling2d_4 (MaxPooling2D)  (None, 8, 8, 64)     0           conv2d_8[0][0]                   \n",
      "__________________________________________________________________________________________________\n",
      "conv2d_9 (Conv2D)               (None, 8, 8, 128)    73856       max_pooling2d_4[0][0]            \n",
      "__________________________________________________________________________________________________\n",
      "conv2d_10 (Conv2D)              (None, 8, 8, 128)    147584      conv2d_9[0][0]                   \n",
      "__________________________________________________________________________________________________\n",
      "conv2d_transpose_1 (Conv2DTrans (None, 16, 16, 64)   32832       conv2d_10[0][0]                  \n",
      "__________________________________________________________________________________________________\n",
      "concatenate_1 (Concatenate)     (None, 16, 16, 128)  0           conv2d_transpose_1[0][0]         \n",
      "                                                                 conv2d_8[0][0]                   \n",
      "__________________________________________________________________________________________________\n",
      "conv2d_11 (Conv2D)              (None, 16, 16, 64)   73792       concatenate_1[0][0]              \n",
      "__________________________________________________________________________________________________\n",
      "conv2d_12 (Conv2D)              (None, 16, 16, 64)   36928       conv2d_11[0][0]                  \n",
      "__________________________________________________________________________________________________\n",
      "conv2d_transpose_2 (Conv2DTrans (None, 32, 32, 32)   8224        conv2d_12[0][0]                  \n",
      "__________________________________________________________________________________________________\n",
      "concatenate_2 (Concatenate)     (None, 32, 32, 64)   0           conv2d_transpose_2[0][0]         \n",
      "                                                                 conv2d_6[0][0]                   \n",
      "__________________________________________________________________________________________________\n",
      "conv2d_13 (Conv2D)              (None, 32, 32, 32)   18464       concatenate_2[0][0]              \n",
      "__________________________________________________________________________________________________\n",
      "conv2d_14 (Conv2D)              (None, 32, 32, 32)   9248        conv2d_13[0][0]                  \n",
      "__________________________________________________________________________________________________\n",
      "conv2d_transpose_3 (Conv2DTrans (None, 64, 64, 16)   2064        conv2d_14[0][0]                  \n",
      "__________________________________________________________________________________________________\n",
      "concatenate_3 (Concatenate)     (None, 64, 64, 32)   0           conv2d_transpose_3[0][0]         \n",
      "                                                                 conv2d_4[0][0]                   \n",
      "__________________________________________________________________________________________________\n",
      "conv2d_15 (Conv2D)              (None, 64, 64, 16)   4624        concatenate_3[0][0]              \n",
      "__________________________________________________________________________________________________\n",
      "conv2d_16 (Conv2D)              (None, 64, 64, 16)   2320        conv2d_15[0][0]                  \n",
      "__________________________________________________________________________________________________\n",
      "conv2d_transpose_4 (Conv2DTrans (None, 128, 128, 8)  520         conv2d_16[0][0]                  \n",
      "__________________________________________________________________________________________________\n",
      "concatenate_4 (Concatenate)     (None, 128, 128, 16) 0           conv2d_transpose_4[0][0]         \n",
      "                                                                 conv2d_2[0][0]                   \n",
      "__________________________________________________________________________________________________\n",
      "conv2d_17 (Conv2D)              (None, 128, 128, 8)  1160        concatenate_4[0][0]              \n",
      "__________________________________________________________________________________________________\n",
      "conv2d_18 (Conv2D)              (None, 128, 128, 8)  584         conv2d_17[0][0]                  \n",
      "__________________________________________________________________________________________________\n",
      "conv2d_19 (Conv2D)              (None, 128, 128, 1)  9           conv2d_18[0][0]                  \n",
      "==================================================================================================\n",
      "Total params: 485,673\n",
      "Trainable params: 485,673\n",
      "Non-trainable params: 0\n",
      "__________________________________________________________________________________________________\n",
      "Train on 4650 samples, validate on 350 samples\n",
      "Epoch 1/30\n",
      " - 49s - loss: 0.5078 - mean_iou: 0.3763 - val_loss: 0.4170 - val_mean_iou: 0.3974\n",
      "\n",
      "Epoch 00001: val_loss improved from inf to 0.41702, saving model to model-tgs-salt-1.h5\n",
      "Epoch 2/30\n",
      " - 44s - loss: 0.3763 - mean_iou: 0.4254 - val_loss: 0.3514 - val_mean_iou: 0.4566\n",
      "\n",
      "Epoch 00002: val_loss improved from 0.41702 to 0.35135, saving model to model-tgs-salt-1.h5\n",
      "Epoch 3/30\n",
      " - 44s - loss: 0.3417 - mean_iou: 0.4821 - val_loss: 0.3163 - val_mean_iou: 0.5035\n",
      "\n",
      "Epoch 00003: val_loss improved from 0.35135 to 0.31633, saving model to model-tgs-salt-1.h5\n",
      "Epoch 4/30\n",
      " - 44s - loss: 0.3217 - mean_iou: 0.5202 - val_loss: 0.2850 - val_mean_iou: 0.5344\n",
      "\n",
      "Epoch 00004: val_loss improved from 0.31633 to 0.28497, saving model to model-tgs-salt-1.h5\n",
      "Epoch 5/30\n",
      " - 44s - loss: 0.2908 - mean_iou: 0.5477 - val_loss: 0.2827 - val_mean_iou: 0.5593\n",
      "\n",
      "Epoch 00005: val_loss improved from 0.28497 to 0.28269, saving model to model-tgs-salt-1.h5\n",
      "Epoch 6/30\n",
      " - 45s - loss: 0.2644 - mean_iou: 0.5712 - val_loss: 0.2540 - val_mean_iou: 0.5823\n",
      "\n",
      "Epoch 00006: val_loss improved from 0.28269 to 0.25397, saving model to model-tgs-salt-1.h5\n",
      "Epoch 7/30\n",
      " - 44s - loss: 0.2717 - mean_iou: 0.5882 - val_loss: 0.2428 - val_mean_iou: 0.5959\n",
      "\n",
      "Epoch 00007: val_loss improved from 0.25397 to 0.24275, saving model to model-tgs-salt-1.h5\n",
      "Epoch 8/30\n",
      " - 46s - loss: 0.2363 - mean_iou: 0.6048 - val_loss: 0.2192 - val_mean_iou: 0.6121\n",
      "\n",
      "Epoch 00008: val_loss improved from 0.24275 to 0.21921, saving model to model-tgs-salt-1.h5\n",
      "Epoch 9/30\n",
      " - 44s - loss: 0.2249 - mean_iou: 0.6191 - val_loss: 0.2361 - val_mean_iou: 0.6259\n",
      "\n",
      "Epoch 00009: val_loss did not improve from 0.21921\n",
      "Epoch 10/30\n",
      " - 46s - loss: 0.2219 - mean_iou: 0.6322 - val_loss: 0.2207 - val_mean_iou: 0.6378\n",
      "\n",
      "Epoch 00010: val_loss did not improve from 0.21921\n",
      "Epoch 11/30\n",
      " - 44s - loss: 0.2012 - mean_iou: 0.6435 - val_loss: 0.2028 - val_mean_iou: 0.6490\n",
      "\n",
      "Epoch 00011: val_loss improved from 0.21921 to 0.20282, saving model to model-tgs-salt-1.h5\n",
      "Epoch 12/30\n",
      " - 44s - loss: 0.1926 - mean_iou: 0.6545 - val_loss: 0.2026 - val_mean_iou: 0.6592\n",
      "\n",
      "Epoch 00012: val_loss improved from 0.20282 to 0.20263, saving model to model-tgs-salt-1.h5\n",
      "Epoch 13/30\n",
      " - 43s - loss: 0.2108 - mean_iou: 0.6635 - val_loss: 0.2254 - val_mean_iou: 0.6663\n",
      "\n",
      "Epoch 00013: val_loss did not improve from 0.20263\n",
      "Epoch 14/30\n",
      " - 44s - loss: 0.2023 - mean_iou: 0.6696 - val_loss: 0.2143 - val_mean_iou: 0.6728\n",
      "\n",
      "Epoch 00014: val_loss did not improve from 0.20263\n",
      "Epoch 15/30\n",
      " - 44s - loss: 0.1926 - mean_iou: 0.6764 - val_loss: 0.2518 - val_mean_iou: 0.6797\n",
      "\n",
      "Epoch 00015: val_loss did not improve from 0.20263\n",
      "Epoch 16/30\n",
      " - 44s - loss: 0.1805 - mean_iou: 0.6836 - val_loss: 0.1920 - val_mean_iou: 0.6865\n",
      "\n",
      "Epoch 00016: val_loss improved from 0.20263 to 0.19204, saving model to model-tgs-salt-1.h5\n",
      "Epoch 17/30\n",
      " - 44s - loss: 0.1689 - mean_iou: 0.6899 - val_loss: 0.2055 - val_mean_iou: 0.6930\n",
      "\n",
      "Epoch 00017: val_loss did not improve from 0.19204\n",
      "Epoch 18/30\n",
      " - 44s - loss: 0.1630 - mean_iou: 0.6962 - val_loss: 0.2002 - val_mean_iou: 0.6992\n",
      "\n",
      "Epoch 00018: val_loss did not improve from 0.19204\n",
      "Epoch 19/30\n",
      " - 44s - loss: 0.1683 - mean_iou: 0.7019 - val_loss: 0.1953 - val_mean_iou: 0.7044\n",
      "\n",
      "Epoch 00019: val_loss did not improve from 0.19204\n",
      "Epoch 20/30\n",
      " - 44s - loss: 0.1615 - mean_iou: 0.7069 - val_loss: 0.1881 - val_mean_iou: 0.7095\n",
      "\n",
      "Epoch 00020: val_loss improved from 0.19204 to 0.18812, saving model to model-tgs-salt-1.h5\n",
      "Epoch 21/30\n",
      " - 44s - loss: 0.1524 - mean_iou: 0.7119 - val_loss: 0.2108 - val_mean_iou: 0.7144\n",
      "\n",
      "Epoch 00021: val_loss did not improve from 0.18812\n",
      "Epoch 22/30\n",
      " - 44s - loss: 0.1471 - mean_iou: 0.7171 - val_loss: 0.2104 - val_mean_iou: 0.7192\n",
      "\n",
      "Epoch 00022: val_loss did not improve from 0.18812\n",
      "Epoch 23/30\n",
      " - 43s - loss: 0.1428 - mean_iou: 0.7215 - val_loss: 0.2322 - val_mean_iou: 0.7238\n",
      "\n",
      "Epoch 00023: val_loss did not improve from 0.18812\n",
      "Epoch 24/30\n",
      " - 44s - loss: 0.1259 - mean_iou: 0.7262 - val_loss: 0.2584 - val_mean_iou: 0.7287\n",
      "\n",
      "Epoch 00024: val_loss did not improve from 0.18812\n",
      "Epoch 25/30\n",
      " - 44s - loss: 0.1594 - mean_iou: 0.7305 - val_loss: 0.1911 - val_mean_iou: 0.7318\n",
      "\n",
      "Epoch 00025: val_loss did not improve from 0.18812\n",
      "Epoch 00025: early stopping\n"
     ]
    }
   ],
   "source": [
    "results = UNET_MODEL(X_train_w_aug=X_train_w_aug,\n",
    "           y_train_w_aug=y_train_w_aug,\n",
    "          X_test_out_of_train = X_test_out_of_train,\n",
    "          y_test_out_of_train=y_test_out_of_train)"
   ]
  },
  {
   "cell_type": "code",
   "execution_count": 6,
   "metadata": {},
   "outputs": [],
   "source": [
    "from data_loader import data_importing_test"
   ]
  },
  {
   "cell_type": "code",
   "execution_count": 8,
   "metadata": {},
   "outputs": [
    {
     "name": "stdout",
     "output_type": "stream",
     "text": [
      "Getting and resizing test images ... \n"
     ]
    },
    {
     "data": {
      "application/vnd.jupyter.widget-view+json": {
       "model_id": "1af99c841a8d45c4af1a6b817e8e3b61",
       "version_major": 2,
       "version_minor": 0
      },
      "text/plain": [
       "HBox(children=(IntProgress(value=0, max=18000), HTML(value='')))"
      ]
     },
     "metadata": {},
     "output_type": "display_data"
    },
    {
     "name": "stdout",
     "output_type": "stream",
     "text": [
      "\n",
      "Done!\n"
     ]
    }
   ],
   "source": [
    "# Testing Images\n",
    "X_test, sizes_test, test_ids = data_importing_test(path_train = r'C:\\Users\\uschlac\\Documents\\Practicum\\Practicum_2\\Salt_Deposit_Identification-master\\Data\\train',\n",
    "                                                  path_test = r'C:\\Users\\uschlac\\Documents\\Practicum\\Practicum_2\\Salt_Deposit_Identification-master\\Data\\test')"
   ]
  },
  {
   "cell_type": "code",
   "execution_count": 9,
   "metadata": {
    "scrolled": true
   },
   "outputs": [
    {
     "name": "stdout",
     "output_type": "stream",
     "text": [
      "18000/18000 [==============================] - ETA: 6: - ETA: 3: - ETA: 2: - ETA: 2: - ETA: 1: - ETA: 1: - ETA: 1: - ETA: 1: - ETA: 1: - ETA: 1: - ETA: 1: - ETA: 1: - ETA: 1: - ETA: 58s - ETA: 56 - ETA: 55 - ETA: 53 - ETA: 52 - ETA: 51 - ETA: 50 - ETA: 49 - ETA: 48 - ETA: 48 - ETA: 47 - ETA: 46 - ETA: 46 - ETA: 45 - ETA: 45 - ETA: 44 - ETA: 44 - ETA: 43 - ETA: 43 - ETA: 42 - ETA: 42 - ETA: 42 - ETA: 41 - ETA: 41 - ETA: 41 - ETA: 40 - ETA: 40 - ETA: 40 - ETA: 40 - ETA: 39 - ETA: 39 - ETA: 39 - ETA: 39 - ETA: 38 - ETA: 38 - ETA: 38 - ETA: 38 - ETA: 37 - ETA: 37 - ETA: 37 - ETA: 37 - ETA: 37 - ETA: 37 - ETA: 36 - ETA: 36 - ETA: 36 - ETA: 36 - ETA: 36 - ETA: 36 - ETA: 35 - ETA: 35 - ETA: 35 - ETA: 35 - ETA: 35 - ETA: 35 - ETA: 35 - ETA: 34 - ETA: 34 - ETA: 34 - ETA: 34 - ETA: 34 - ETA: 34 - ETA: 34 - ETA: 33 - ETA: 33 - ETA: 33 - ETA: 33 - ETA: 33 - ETA: 33 - ETA: 33 - ETA: 33 - ETA: 33 - ETA: 32 - ETA: 32 - ETA: 32 - ETA: 32 - ETA: 32 - ETA: 32 - ETA: 32 - ETA: 32 - ETA: 32 - ETA: 31 - ETA: 31 - ETA: 31 - ETA: 31 - ETA: 31 - ETA: 31 - ETA: 31 - ETA: 31 - ETA: 31 - ETA: 31 - ETA: 31 - ETA: 30 - ETA: 30 - ETA: 30 - ETA: 30 - ETA: 30 - ETA: 30 - ETA: 30 - ETA: 30 - ETA: 30 - ETA: 30 - ETA: 30 - ETA: 29 - ETA: 29 - ETA: 29 - ETA: 29 - ETA: 29 - ETA: 29 - ETA: 29 - ETA: 29 - ETA: 29 - ETA: 29 - ETA: 29 - ETA: 28 - ETA: 28 - ETA: 28 - ETA: 28 - ETA: 28 - ETA: 28 - ETA: 28 - ETA: 28 - ETA: 28 - ETA: 28 - ETA: 28 - ETA: 28 - ETA: 28 - ETA: 27 - ETA: 27 - ETA: 27 - ETA: 27 - ETA: 27 - ETA: 27 - ETA: 27 - ETA: 27 - ETA: 27 - ETA: 27 - ETA: 27 - ETA: 27 - ETA: 27 - ETA: 26 - ETA: 26 - ETA: 26 - ETA: 26 - ETA: 26 - ETA: 26 - ETA: 26 - ETA: 26 - ETA: 26 - ETA: 26 - ETA: 26 - ETA: 26 - ETA: 26 - ETA: 25 - ETA: 25 - ETA: 25 - ETA: 25 - ETA: 25 - ETA: 25 - ETA: 25 - ETA: 25 - ETA: 25 - ETA: 25 - ETA: 25 - ETA: 25 - ETA: 25 - ETA: 25 - ETA: 24 - ETA: 24 - ETA: 24 - ETA: 24 - ETA: 24 - ETA: 24 - ETA: 24 - ETA: 24 - ETA: 24 - ETA: 24 - ETA: 24 - ETA: 24 - ETA: 24 - ETA: 24 - ETA: 23 - ETA: 23 - ETA: 23 - ETA: 23 - ETA: 23 - ETA: 23 - ETA: 23 - ETA: 23 - ETA: 23 - ETA: 23 - ETA: 23 - ETA: 23 - ETA: 23 - ETA: 23 - ETA: 22 - ETA: 22 - ETA: 22 - ETA: 22 - ETA: 22 - ETA: 22 - ETA: 22 - ETA: 22 - ETA: 22 - ETA: 22 - ETA: 22 - ETA: 22 - ETA: 22 - ETA: 22 - ETA: 21 - ETA: 21 - ETA: 21 - ETA: 21 - ETA: 21 - ETA: 21 - ETA: 21 - ETA: 21 - ETA: 21 - ETA: 21 - ETA: 21 - ETA: 21 - ETA: 21 - ETA: 21 - ETA: 21 - ETA: 20 - ETA: 20 - ETA: 20 - ETA: 20 - ETA: 20 - ETA: 20 - ETA: 20 - ETA: 20 - ETA: 20 - ETA: 20 - ETA: 20 - ETA: 20 - ETA: 20 - ETA: 20 - ETA: 19 - ETA: 19 - ETA: 19 - ETA: 19 - ETA: 19 - ETA: 19 - ETA: 19 - ETA: 19 - ETA: 19 - ETA: 19 - ETA: 19 - ETA: 19 - ETA: 19 - ETA: 19 - ETA: 19 - ETA: 18 - ETA: 18 - ETA: 18 - ETA: 18 - ETA: 18 - ETA: 18 - ETA: 18 - ETA: 18 - ETA: 18 - ETA: 18 - ETA: 18 - ETA: 18 - ETA: 18 - ETA: 18 - ETA: 18 - ETA: 17 - ETA: 17 - ETA: 17 - ETA: 17 - ETA: 17 - ETA: 17 - ETA: 17 - ETA: 17 - ETA: 17 - ETA: 17 - ETA: 17 - ETA: 17 - ETA: 17 - ETA: 17 - ETA: 17 - ETA: 16 - ETA: 16 - ETA: 16 - ETA: 16 - ETA: 16 - ETA: 16 - ETA: 16 - ETA: 16 - ETA: 16 - ETA: 16 - ETA: 16 - ETA: 16 - ETA: 16 - ETA: 16 - ETA: 16 - ETA: 16 - ETA: 15 - ETA: 15 - ETA: 15 - ETA: 15 - ETA: 15 - ETA: 15 - ETA: 15 - ETA: 15 - ETA: 15 - ETA: 15 - ETA: 15 - ETA: 15 - ETA: 15 - ETA: 15 - ETA: 15 - ETA: 14 - ETA: 14 - ETA: 14 - ETA: 14 - ETA: 14 - ETA: 14 - ETA: 14 - ETA: 14 - ETA: 14 - ETA: 14 - ETA: 14 - ETA: 14 - ETA: 14 - ETA: 14 - ETA: 14 - ETA: 13 - ETA: 13 - ETA: 13 - ETA: 13 - ETA: 13 - ETA: 13 - ETA: 13 - ETA: 13 - ETA: 13 - ETA: 13 - ETA: 13 - ETA: 13 - ETA: 13 - ETA: 13 - ETA: 13 - ETA: 13 - ETA: 12 - ETA: 12 - ETA: 12 - ETA: 12 - ETA: 12 - ETA: 12 - ETA: 12 - ETA: 12 - ETA: 12 - ETA: 12 - ETA: 12 - ETA: 12 - ETA: 12 - ETA: 12 - ETA: 12 - ETA: 11 - ETA: 11 - ETA: 11 - ETA: 11 - ETA: 11 - ETA: 11 - ETA: 11 - ETA: 11 - ETA: 11 - ETA: 11 - ETA: 11 - ETA: 11 - ETA: 11 - ETA: 11 - ETA: 11 - ETA: 11 - ETA: 10 - ETA: 10 - ETA: 10 - ETA: 10 - ETA: 10 - ETA: 10 - ETA: 10 - ETA: 10 - ETA: 10 - ETA: 10 - ETA: 10 - ETA: 10 - ETA: 10 - ETA: 10 - ETA: 10 - ETA: 9 - ETA:  - ETA:  - ETA:  - ETA:  - ETA:  - ETA:  - ETA:  - ETA:  - ETA:  - ETA:  - ETA:  - ETA:  - ETA:  - ETA:  - ETA:  - ETA:  - ETA:  - ETA:  - ETA:  - ETA:  - ETA:  - ETA:  - ETA:  - ETA:  - ETA:  - ETA:  - ETA:  - ETA:  - ETA:  - ETA:  - ETA:  - ETA:  - ETA:  - ETA:  - ETA:  - ETA:  - ETA:  - ETA:  - ETA:  - ETA:  - ETA:  - ETA:  - ETA:  - ETA:  - ETA:  - ETA:  - ETA:  - ETA:  - ETA:  - ETA:  - ETA:  - ETA:  - ETA:  - ETA:  - ETA:  - ETA:  - ETA:  - ETA:  - ETA:  - ETA:  - ETA:  - ETA:  - ETA:  - ETA:  - ETA:  - ETA:  - ETA:  - ETA:  - ETA:  - ETA:  - ETA:  - ETA:  - ETA:  - ETA:  - ETA:  - ETA:  - ETA:  - ETA:  - ETA:  - ETA:  - ETA:  - ETA:  - ETA:  - ETA:  - ETA:  - ETA:  - ETA:  - ETA:  - ETA:  - ETA:  - ETA:  - ETA:  - ETA:  - ETA:  - ETA:  - ETA:  - ETA:  - ETA:  - ETA:  - ETA:  - ETA:  - ETA:  - ETA:  - ETA:  - ETA:  - ETA:  - ETA:  - ETA:  - ETA:  - ETA:  - ETA:  - ETA:  - ETA:  - ETA:  - ETA:  - ETA:  - ETA:  - ETA:  - ETA:  - ETA:  - ETA:  - ETA:  - ETA:  - ETA:  - ETA:  - ETA:  - ETA:  - ETA:  - ETA:  - ETA:  - ETA:  - ETA:  - ETA:  - ETA:  - ETA:  - ETA:  - ETA:  - ETA:  - ETA:  - ETA:  - ETA:  - ETA:  - ETA:  - ETA:  - ETA:  - ETA:  - ETA:  - ETA:  - ETA:  - ETA:  - ETA:  - ETA:  - ETA:  - ETA:  - ETA:  - ETA:  - ETA:  - 36s 2ms/step\n"
     ]
    },
    {
     "data": {
      "application/vnd.jupyter.widget-view+json": {
       "model_id": "4651b70425594c8abc4d76204084f930",
       "version_major": 2,
       "version_minor": 0
      },
      "text/plain": [
       "HBox(children=(IntProgress(value=0, max=18000), HTML(value='')))"
      ]
     },
     "metadata": {},
     "output_type": "display_data"
    },
    {
     "name": "stdout",
     "output_type": "stream",
     "text": [
      "\n"
     ]
    }
   ],
   "source": [
    "from keras.models import load_model\n",
    "from mean_iou import mean_iou\n",
    "import tqdm\n",
    "from skimage.transform import resize\n",
    "\n",
    "# Predict on train, val and test\n",
    "model = load_model('model-tgs-salt-1.h5', custom_objects={'mean_iou': mean_iou})\n",
    "preds_test = model.predict(X_test, verbose=1)\n",
    "\n",
    "# Threshold predictions\n",
    "preds_test_t = (preds_test > 0.5).astype(np.uint8)\n",
    "\n",
    "# Create list of upsampled test masks\n",
    "preds_test_upsampled = []\n",
    "for i in tqdm.tnrange(len(preds_test)):\n",
    "    # We need to resize the images from 128 x 128 back to 101 x 101 pixels. \n",
    "    preds_test_upsampled.append(resize(np.squeeze(preds_test[i]), \n",
    "                                       (sizes_test[i][0], sizes_test[i][1]), \n",
    "                                       mode='constant', preserve_range=True))"
   ]
  },
  {
   "cell_type": "code",
   "execution_count": 10,
   "metadata": {},
   "outputs": [
    {
     "data": {
      "application/vnd.jupyter.widget-view+json": {
       "model_id": "8df8e7ffd1494627b76952751213862e",
       "version_major": 2,
       "version_minor": 0
      },
      "text/plain": [
       "HBox(children=(IntProgress(value=1, bar_style='info', max=1), HTML(value='')))"
      ]
     },
     "metadata": {},
     "output_type": "display_data"
    },
    {
     "name": "stdout",
     "output_type": "stream",
     "text": [
      "\n"
     ]
    }
   ],
   "source": [
    "from submission import RLenc\n",
    "from submission import get_submission\n",
    "from tqdm import tqdm_notebook as tqdm_NB\n",
    "\n",
    "pred_dict = {fn[:-4]:RLenc(np.round(preds_test_upsampled[i])) for i,fn in tqdm_NB(enumerate(test_ids))}\n",
    "get_submission(pred_dict)"
   ]
  }
 ],
 "metadata": {
  "kernelspec": {
   "display_name": "Python [default]",
   "language": "python",
   "name": "python3"
  },
  "language_info": {
   "codemirror_mode": {
    "name": "ipython",
    "version": 3
   },
   "file_extension": ".py",
   "mimetype": "text/x-python",
   "name": "python",
   "nbconvert_exporter": "python",
   "pygments_lexer": "ipython3",
   "version": "3.5.5"
  }
 },
 "nbformat": 4,
 "nbformat_minor": 2
}
