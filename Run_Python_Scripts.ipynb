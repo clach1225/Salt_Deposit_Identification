{
 "cells": [
  {
   "cell_type": "code",
   "execution_count": 1,
   "metadata": {},
   "outputs": [
    {
     "name": "stderr",
     "output_type": "stream",
     "text": [
      "Using TensorFlow backend.\n"
     ]
    },
    {
     "name": "stdout",
     "output_type": "stream",
     "text": [
      "Getting and resizing train images and masks ... \n"
     ]
    },
    {
     "data": {
      "application/vnd.jupyter.widget-view+json": {
       "model_id": "25810711d7534edea8efff204d59a9ad",
       "version_major": 2,
       "version_minor": 0
      },
      "text/plain": [
       "HBox(children=(IntProgress(value=0, max=4000), HTML(value='')))"
      ]
     },
     "metadata": {},
     "output_type": "display_data"
    },
    {
     "name": "stdout",
     "output_type": "stream",
     "text": [
      "\n",
      "Done!\n"
     ]
    }
   ],
   "source": [
    "from data_loader import data_importing\n",
    "training = 'C:/Users/buckf/Documents/Practicum_2/Salt_Deposit_Identification-master/data/train'\n",
    "testing = 'C:/Users/buckf/Documents/Practicum_2/Salt_Deposit_Identification-master/data/test'\n",
    "\n",
    "# This Function inputs the training images and masks directory,\n",
    "# and test images and rezises the images and returns the numpy arrays that are\n",
    "# resized from 101 x 101 to 128 x 128.\n",
    "X_train, Y_train = data_importing(path_train=training, path_test=testing)"
   ]
  },
  {
   "cell_type": "code",
   "execution_count": 2,
   "metadata": {},
   "outputs": [
    {
     "name": "stdout",
     "output_type": "stream",
     "text": [
      "Initialised with 4000 image(s) found.\n",
      "Output directory set to C:\\Users\\buckf\\Documents\\Practicum_2\\Salt_Deposit_Identification-master\\data\\train\\images\\output."
     ]
    },
    {
     "name": "stderr",
     "output_type": "stream",
     "text": [
      "                                                         \r"
     ]
    },
    {
     "name": "stdout",
     "output_type": "stream",
     "text": [
      "4000 ground truth image(s) found.\n"
     ]
    },
    {
     "name": "stderr",
     "output_type": "stream",
     "text": [
      "Processing <PIL.Image.Image image mode=RGB size=101x101 at 0x1F9964E2C18>: 100%|██████████| 1000/1000 [00:02<00:00, 480.18 Samples/s]\n"
     ]
    },
    {
     "name": "stdout",
     "output_type": "stream",
     "text": [
      "Getting and resizing train images and masks ... \n"
     ]
    },
    {
     "data": {
      "application/vnd.jupyter.widget-view+json": {
       "model_id": "f8f3501bd4e94d51a70c173a0412b9ad",
       "version_major": 2,
       "version_minor": 0
      },
      "text/plain": [
       "HBox(children=(IntProgress(value=0, max=1000), HTML(value='')))"
      ]
     },
     "metadata": {},
     "output_type": "display_data"
    },
    {
     "name": "stdout",
     "output_type": "stream",
     "text": [
      "\n"
     ]
    },
    {
     "data": {
      "application/vnd.jupyter.widget-view+json": {
       "model_id": "c716a9ec025745cc8ebeff46b71b0bf8",
       "version_major": 2,
       "version_minor": 0
      },
      "text/plain": [
       "HBox(children=(IntProgress(value=0, max=1000), HTML(value='')))"
      ]
     },
     "metadata": {},
     "output_type": "display_data"
    },
    {
     "name": "stdout",
     "output_type": "stream",
     "text": [
      "\n",
      "Done!\n"
     ]
    }
   ],
   "source": [
    "from image_augmentor import aug\n",
    "train_image_path = r\"C:\\Users\\buckf\\Documents\\Practicum_2\\Salt_Deposit_Identification-master\\data\\train\\images\"\n",
    "train_mask_path = r\"C:\\Users\\buckf\\Documents\\Practicum_2\\Salt_Deposit_Identification-master\\data\\train\\masks\"\n",
    "path_train = r'C:\\Users\\buckf\\Documents\\Practicum_2\\Salt_Deposit_Identification-master\\data\\train'\n",
    "num_images_augmented = 1000\n",
    "\n",
    "\n",
    "Aug_X_train, Aug_Y_train = aug(train_image_path=train_image_path,\n",
    "                               train_mask_path=train_mask_path,\n",
    "                               path_train=path_train,\n",
    "                              num_images_augmented=num_images_augmented)"
   ]
  },
  {
   "cell_type": "code",
   "execution_count": 3,
   "metadata": {},
   "outputs": [],
   "source": [
    "import numpy as np\n",
    "X_train = np.concatenate((X_train, Aug_X_train), axis=0)\n",
    "Y_train = np.concatenate((Y_train, Aug_Y_train), axis=0)\n",
    "\n",
    "# Let's use the first 350 images from our trainset for our test sample.\n",
    "X_test_out_of_train = X_train[:350]\n",
    "y_test_out_of_train = Y_train[:350]\n",
    "\n",
    "\n",
    "X_train_w_aug = X_train[350:]\n",
    "y_train_w_aug = Y_train[350:]"
   ]
  },
  {
   "cell_type": "code",
   "execution_count": 4,
   "metadata": {},
   "outputs": [],
   "source": [
    "from Modeling import UNET_MODEL"
   ]
  },
  {
   "cell_type": "code",
   "execution_count": 5,
   "metadata": {
    "scrolled": true
   },
   "outputs": [
    {
     "name": "stdout",
     "output_type": "stream",
     "text": [
      "__________________________________________________________________________________________________\n",
      "Layer (type)                    Output Shape         Param #     Connected to                     \n",
      "==================================================================================================\n",
      "input_1 (InputLayer)            (None, 128, 128, 1)  0                                            \n",
      "__________________________________________________________________________________________________\n",
      "lambda_1 (Lambda)               (None, 128, 128, 1)  0           input_1[0][0]                    \n",
      "__________________________________________________________________________________________________\n",
      "conv2d_1 (Conv2D)               (None, 128, 128, 8)  80          lambda_1[0][0]                   \n",
      "__________________________________________________________________________________________________\n",
      "conv2d_2 (Conv2D)               (None, 128, 128, 8)  584         conv2d_1[0][0]                   \n",
      "__________________________________________________________________________________________________\n",
      "max_pooling2d_1 (MaxPooling2D)  (None, 64, 64, 8)    0           conv2d_2[0][0]                   \n",
      "__________________________________________________________________________________________________\n",
      "conv2d_3 (Conv2D)               (None, 64, 64, 16)   1168        max_pooling2d_1[0][0]            \n",
      "__________________________________________________________________________________________________\n",
      "conv2d_4 (Conv2D)               (None, 64, 64, 16)   2320        conv2d_3[0][0]                   \n",
      "__________________________________________________________________________________________________\n",
      "max_pooling2d_2 (MaxPooling2D)  (None, 32, 32, 16)   0           conv2d_4[0][0]                   \n",
      "__________________________________________________________________________________________________\n",
      "conv2d_5 (Conv2D)               (None, 32, 32, 32)   4640        max_pooling2d_2[0][0]            \n",
      "__________________________________________________________________________________________________\n",
      "conv2d_6 (Conv2D)               (None, 32, 32, 32)   9248        conv2d_5[0][0]                   \n",
      "__________________________________________________________________________________________________\n",
      "max_pooling2d_3 (MaxPooling2D)  (None, 16, 16, 32)   0           conv2d_6[0][0]                   \n",
      "__________________________________________________________________________________________________\n",
      "conv2d_7 (Conv2D)               (None, 16, 16, 64)   18496       max_pooling2d_3[0][0]            \n",
      "__________________________________________________________________________________________________\n",
      "conv2d_8 (Conv2D)               (None, 16, 16, 64)   36928       conv2d_7[0][0]                   \n",
      "__________________________________________________________________________________________________\n",
      "max_pooling2d_4 (MaxPooling2D)  (None, 8, 8, 64)     0           conv2d_8[0][0]                   \n",
      "__________________________________________________________________________________________________\n",
      "conv2d_9 (Conv2D)               (None, 8, 8, 128)    73856       max_pooling2d_4[0][0]            \n",
      "__________________________________________________________________________________________________\n",
      "conv2d_10 (Conv2D)              (None, 8, 8, 128)    147584      conv2d_9[0][0]                   \n",
      "__________________________________________________________________________________________________\n",
      "conv2d_transpose_1 (Conv2DTrans (None, 16, 16, 64)   32832       conv2d_10[0][0]                  \n",
      "__________________________________________________________________________________________________\n",
      "concatenate_1 (Concatenate)     (None, 16, 16, 128)  0           conv2d_transpose_1[0][0]         \n",
      "                                                                 conv2d_8[0][0]                   \n",
      "__________________________________________________________________________________________________\n",
      "conv2d_11 (Conv2D)              (None, 16, 16, 64)   73792       concatenate_1[0][0]              \n",
      "__________________________________________________________________________________________________\n",
      "conv2d_12 (Conv2D)              (None, 16, 16, 64)   36928       conv2d_11[0][0]                  \n",
      "__________________________________________________________________________________________________\n",
      "conv2d_transpose_2 (Conv2DTrans (None, 32, 32, 32)   8224        conv2d_12[0][0]                  \n",
      "__________________________________________________________________________________________________\n",
      "concatenate_2 (Concatenate)     (None, 32, 32, 64)   0           conv2d_transpose_2[0][0]         \n",
      "                                                                 conv2d_6[0][0]                   \n",
      "__________________________________________________________________________________________________\n",
      "conv2d_13 (Conv2D)              (None, 32, 32, 32)   18464       concatenate_2[0][0]              \n",
      "__________________________________________________________________________________________________\n",
      "conv2d_14 (Conv2D)              (None, 32, 32, 32)   9248        conv2d_13[0][0]                  \n",
      "__________________________________________________________________________________________________\n",
      "conv2d_transpose_3 (Conv2DTrans (None, 64, 64, 16)   2064        conv2d_14[0][0]                  \n",
      "__________________________________________________________________________________________________\n",
      "concatenate_3 (Concatenate)     (None, 64, 64, 32)   0           conv2d_transpose_3[0][0]         \n",
      "                                                                 conv2d_4[0][0]                   \n",
      "__________________________________________________________________________________________________\n",
      "conv2d_15 (Conv2D)              (None, 64, 64, 16)   4624        concatenate_3[0][0]              \n",
      "__________________________________________________________________________________________________\n",
      "conv2d_16 (Conv2D)              (None, 64, 64, 16)   2320        conv2d_15[0][0]                  \n",
      "__________________________________________________________________________________________________\n",
      "conv2d_transpose_4 (Conv2DTrans (None, 128, 128, 8)  520         conv2d_16[0][0]                  \n",
      "__________________________________________________________________________________________________\n",
      "concatenate_4 (Concatenate)     (None, 128, 128, 16) 0           conv2d_transpose_4[0][0]         \n",
      "                                                                 conv2d_2[0][0]                   \n",
      "__________________________________________________________________________________________________\n",
      "conv2d_17 (Conv2D)              (None, 128, 128, 8)  1160        concatenate_4[0][0]              \n",
      "__________________________________________________________________________________________________\n",
      "conv2d_18 (Conv2D)              (None, 128, 128, 8)  584         conv2d_17[0][0]                  \n",
      "__________________________________________________________________________________________________\n",
      "conv2d_19 (Conv2D)              (None, 128, 128, 1)  9           conv2d_18[0][0]                  \n",
      "==================================================================================================\n",
      "Total params: 485,673\n",
      "Trainable params: 485,673\n",
      "Non-trainable params: 0\n",
      "__________________________________________________________________________________________________\n",
      "Train on 4650 samples, validate on 350 samples\n",
      "Epoch 1/30\n",
      " - 21s - loss: 0.5545 - mean_iou: 0.3759 - val_loss: 0.4935 - val_mean_iou: 0.3748\n",
      "\n",
      "Epoch 00001: val_loss improved from inf to 0.49350, saving model to model-tgs-salt-1.h5\n",
      "Epoch 2/30\n",
      " - 18s - loss: 0.4851 - mean_iou: 0.3769 - val_loss: 0.4201 - val_mean_iou: 0.3884\n",
      "\n",
      "Epoch 00002: val_loss improved from 0.49350 to 0.42008, saving model to model-tgs-salt-1.h5\n",
      "Epoch 3/30\n",
      " - 18s - loss: 0.4339 - mean_iou: 0.4003 - val_loss: 0.3948 - val_mean_iou: 0.4137\n",
      "\n",
      "Epoch 00003: val_loss improved from 0.42008 to 0.39483, saving model to model-tgs-salt-1.h5\n",
      "Epoch 4/30\n",
      " - 18s - loss: 0.3731 - mean_iou: 0.4299 - val_loss: 0.3516 - val_mean_iou: 0.4447\n",
      "\n",
      "Epoch 00004: val_loss improved from 0.39483 to 0.35163, saving model to model-tgs-salt-1.h5\n"
     ]
    },
    {
     "name": "stdout",
     "output_type": "stream",
     "text": [
      "Epoch 5/30\n",
      " - 18s - loss: 0.3475 - mean_iou: 0.4602 - val_loss: 0.3425 - val_mean_iou: 0.4743\n",
      "\n",
      "Epoch 00005: val_loss improved from 0.35163 to 0.34249, saving model to model-tgs-salt-1.h5\n",
      "Epoch 6/30\n",
      " - 18s - loss: 0.3265 - mean_iou: 0.4858 - val_loss: 0.3016 - val_mean_iou: 0.4967\n",
      "\n",
      "Epoch 00006: val_loss improved from 0.34249 to 0.30158, saving model to model-tgs-salt-1.h5\n",
      "Epoch 7/30\n",
      " - 18s - loss: 0.3073 - mean_iou: 0.5063 - val_loss: 0.2853 - val_mean_iou: 0.5157\n",
      "\n",
      "Epoch 00007: val_loss improved from 0.30158 to 0.28531, saving model to model-tgs-salt-1.h5\n",
      "Epoch 8/30\n",
      " - 18s - loss: 0.2750 - mean_iou: 0.5261 - val_loss: 0.2613 - val_mean_iou: 0.5361\n",
      "\n",
      "Epoch 00008: val_loss improved from 0.28531 to 0.26129, saving model to model-tgs-salt-1.h5\n",
      "Epoch 9/30\n",
      " - 18s - loss: 0.2620 - mean_iou: 0.5454 - val_loss: 0.2902 - val_mean_iou: 0.5539\n",
      "\n",
      "Epoch 00009: val_loss did not improve from 0.26129\n",
      "Epoch 10/30\n",
      " - 18s - loss: 0.2470 - mean_iou: 0.5626 - val_loss: 0.2500 - val_mean_iou: 0.5706\n",
      "\n",
      "Epoch 00010: val_loss improved from 0.26129 to 0.24998, saving model to model-tgs-salt-1.h5\n",
      "Epoch 11/30\n",
      " - 18s - loss: 0.2351 - mean_iou: 0.5780 - val_loss: 0.2706 - val_mean_iou: 0.5851\n",
      "\n",
      "Epoch 00011: val_loss did not improve from 0.24998\n",
      "Epoch 12/30\n",
      " - 18s - loss: 0.2256 - mean_iou: 0.5914 - val_loss: 0.2418 - val_mean_iou: 0.5983\n",
      "\n",
      "Epoch 00012: val_loss improved from 0.24998 to 0.24181, saving model to model-tgs-salt-1.h5\n",
      "Epoch 13/30\n",
      " - 18s - loss: 0.2262 - mean_iou: 0.6036 - val_loss: 0.2174 - val_mean_iou: 0.6093\n",
      "\n",
      "Epoch 00013: val_loss improved from 0.24181 to 0.21740, saving model to model-tgs-salt-1.h5\n",
      "Epoch 14/30\n",
      " - 18s - loss: 0.2137 - mean_iou: 0.6149 - val_loss: 0.2276 - val_mean_iou: 0.6196\n",
      "\n",
      "Epoch 00014: val_loss did not improve from 0.21740\n",
      "Epoch 15/30\n",
      " - 18s - loss: 0.2123 - mean_iou: 0.6243 - val_loss: 0.2378 - val_mean_iou: 0.6287\n",
      "\n",
      "Epoch 00015: val_loss did not improve from 0.21740\n",
      "Epoch 16/30\n",
      " - 18s - loss: 0.1933 - mean_iou: 0.6335 - val_loss: 0.2098 - val_mean_iou: 0.6380\n",
      "\n",
      "Epoch 00016: val_loss improved from 0.21740 to 0.20983, saving model to model-tgs-salt-1.h5\n",
      "Epoch 17/30\n",
      " - 18s - loss: 0.1959 - mean_iou: 0.6422 - val_loss: 0.2193 - val_mean_iou: 0.6460\n",
      "\n",
      "Epoch 00017: val_loss did not improve from 0.20983\n",
      "Epoch 18/30\n",
      " - 18s - loss: 0.1841 - mean_iou: 0.6503 - val_loss: 0.2016 - val_mean_iou: 0.6540\n",
      "\n",
      "Epoch 00018: val_loss improved from 0.20983 to 0.20162, saving model to model-tgs-salt-1.h5\n",
      "Epoch 19/30\n",
      " - 18s - loss: 0.1758 - mean_iou: 0.6581 - val_loss: 0.1943 - val_mean_iou: 0.6616\n",
      "\n",
      "Epoch 00019: val_loss improved from 0.20162 to 0.19428, saving model to model-tgs-salt-1.h5\n",
      "Epoch 20/30\n",
      " - 18s - loss: 0.1647 - mean_iou: 0.6655 - val_loss: 0.2289 - val_mean_iou: 0.6692\n",
      "\n",
      "Epoch 00020: val_loss did not improve from 0.19428\n",
      "Epoch 21/30\n",
      " - 18s - loss: 0.1651 - mean_iou: 0.6724 - val_loss: 0.1901 - val_mean_iou: 0.6758\n",
      "\n",
      "Epoch 00021: val_loss improved from 0.19428 to 0.19006, saving model to model-tgs-salt-1.h5\n",
      "Epoch 22/30\n",
      " - 18s - loss: 0.1552 - mean_iou: 0.6791 - val_loss: 0.2049 - val_mean_iou: 0.6823\n",
      "\n",
      "Epoch 00022: val_loss did not improve from 0.19006\n",
      "Epoch 23/30\n",
      " - 18s - loss: 0.1588 - mean_iou: 0.6854 - val_loss: 0.2108 - val_mean_iou: 0.6879\n",
      "\n",
      "Epoch 00023: val_loss did not improve from 0.19006\n",
      "Epoch 24/30\n",
      " - 18s - loss: 0.1452 - mean_iou: 0.6910 - val_loss: 0.1930 - val_mean_iou: 0.6938\n",
      "\n",
      "Epoch 00024: val_loss did not improve from 0.19006\n",
      "Epoch 25/30\n",
      " - 18s - loss: 0.1345 - mean_iou: 0.6967 - val_loss: 0.2057 - val_mean_iou: 0.6996\n",
      "\n",
      "Epoch 00025: val_loss did not improve from 0.19006\n",
      "Epoch 26/30\n",
      " - 18s - loss: 0.1364 - mean_iou: 0.7024 - val_loss: 0.2141 - val_mean_iou: 0.7050\n",
      "\n",
      "Epoch 00026: val_loss did not improve from 0.19006\n",
      "Epoch 00026: early stopping\n"
     ]
    }
   ],
   "source": [
    "results = UNET_MODEL(X_train_w_aug=X_train_w_aug,\n",
    "           y_train_w_aug=y_train_w_aug,\n",
    "          X_test_out_of_train = X_test_out_of_train,\n",
    "          y_test_out_of_train=y_test_out_of_train)"
   ]
  },
  {
   "cell_type": "code",
   "execution_count": 6,
   "metadata": {},
   "outputs": [],
   "source": [
    "from data_loader import data_importing_test"
   ]
  },
  {
   "cell_type": "code",
   "execution_count": 7,
   "metadata": {},
   "outputs": [
    {
     "name": "stdout",
     "output_type": "stream",
     "text": [
      "Getting and resizing test images ... \n"
     ]
    },
    {
     "data": {
      "application/vnd.jupyter.widget-view+json": {
       "model_id": "5854370d286944298baf0aced322c15c",
       "version_major": 2,
       "version_minor": 0
      },
      "text/plain": [
       "HBox(children=(IntProgress(value=0, max=18000), HTML(value='')))"
      ]
     },
     "metadata": {},
     "output_type": "display_data"
    },
    {
     "name": "stdout",
     "output_type": "stream",
     "text": [
      "\n",
      "Done!\n"
     ]
    }
   ],
   "source": [
    "# Testing Images\n",
    "X_test, sizes_test, test_ids = data_importing_test()"
   ]
  },
  {
   "cell_type": "code",
   "execution_count": 8,
   "metadata": {
    "scrolled": true
   },
   "outputs": [
    {
     "name": "stdout",
     "output_type": "stream",
     "text": [
      "18000/18000 [==============================] - ETA: 3: - ETA: 1: - ETA: 39s - ETA: 30 - ETA: 26 - ETA: 23 - ETA: 21 - ETA: 19 - ETA: 18 - ETA: 17 - ETA: 16 - ETA: 15 - ETA: 15 - ETA: 14 - ETA: 14 - ETA: 14 - ETA: 13 - ETA: 13 - ETA: 13 - ETA: 12 - ETA: 12 - ETA: 12 - ETA: 12 - ETA: 12 - ETA: 11 - ETA: 11 - ETA: 11 - ETA: 11 - ETA: 11 - ETA: 11 - ETA: 11 - ETA: 10 - ETA: 10 - ETA: 10 - ETA: 10 - ETA: 10 - ETA: 10 - ETA: 10 - ETA: 10 - ETA: 9 - ETA:  - ETA:  - ETA:  - ETA:  - ETA:  - ETA:  - ETA:  - ETA:  - ETA:  - ETA:  - ETA:  - ETA:  - ETA:  - ETA:  - ETA:  - ETA:  - ETA:  - ETA:  - ETA:  - ETA:  - ETA:  - ETA:  - ETA:  - ETA:  - ETA:  - ETA:  - ETA:  - ETA:  - ETA:  - ETA:  - ETA:  - ETA:  - ETA:  - ETA:  - ETA:  - ETA:  - ETA:  - ETA:  - ETA:  - ETA:  - ETA:  - ETA:  - ETA:  - ETA:  - ETA:  - ETA:  - ETA:  - ETA:  - ETA:  - ETA:  - ETA:  - ETA:  - ETA:  - ETA:  - ETA:  - ETA:  - ETA:  - ETA:  - ETA:  - ETA:  - ETA:  - ETA:  - ETA:  - ETA:  - ETA:  - ETA:  - ETA:  - ETA:  - ETA:  - ETA:  - ETA:  - ETA:  - ETA:  - ETA:  - ETA:  - ETA:  - ETA:  - ETA:  - ETA:  - ETA:  - ETA:  - ETA:  - ETA:  - ETA:  - ETA:  - ETA:  - ETA:  - ETA:  - ETA:  - ETA:  - ETA:  - ETA:  - ETA:  - ETA:  - ETA:  - ETA:  - ETA:  - ETA:  - ETA:  - ETA:  - ETA:  - ETA:  - ETA:  - ETA:  - ETA:  - ETA:  - ETA:  - ETA:  - ETA:  - ETA:  - ETA:  - ETA:  - ETA:  - ETA:  - ETA:  - ETA:  - ETA:  - ETA:  - ETA:  - ETA:  - ETA:  - ETA:  - ETA:  - ETA:  - ETA:  - ETA:  - ETA:  - ETA:  - ETA:  - ETA:  - ETA:  - ETA:  - ETA:  - ETA:  - ETA:  - ETA:  - ETA:  - ETA:  - ETA:  - ETA:  - ETA:  - ETA:  - ETA:  - ETA:  - ETA:  - ETA:  - ETA:  - ETA:  - 11s 633us/step\n"
     ]
    },
    {
     "data": {
      "application/vnd.jupyter.widget-view+json": {
       "model_id": "b5386ced76f84716b9d1377729b0d5a7",
       "version_major": 2,
       "version_minor": 0
      },
      "text/plain": [
       "HBox(children=(IntProgress(value=0, max=18000), HTML(value='')))"
      ]
     },
     "metadata": {},
     "output_type": "display_data"
    },
    {
     "name": "stdout",
     "output_type": "stream",
     "text": [
      "\n"
     ]
    }
   ],
   "source": [
    "from keras.models import load_model\n",
    "from mean_iou import mean_iou\n",
    "import tqdm\n",
    "from skimage.transform import resize\n",
    "\n",
    "# Predict on train, val and test\n",
    "model = load_model('model-tgs-salt-1.h5', custom_objects={'mean_iou': mean_iou})\n",
    "preds_test = model.predict(X_test, verbose=1)\n",
    "\n",
    "# Threshold predictions\n",
    "preds_test_t = (preds_test > 0.5).astype(np.uint8)\n",
    "\n",
    "# Create list of upsampled test masks\n",
    "preds_test_upsampled = []\n",
    "for i in tqdm.tnrange(len(preds_test)):\n",
    "    # We need to resize the images from 128 x 128 back to 101 x 101 pixels. \n",
    "    preds_test_upsampled.append(resize(np.squeeze(preds_test[i]), \n",
    "                                       (sizes_test[i][0], sizes_test[i][1]), \n",
    "                                       mode='constant', preserve_range=True))"
   ]
  },
  {
   "cell_type": "code",
   "execution_count": 10,
   "metadata": {},
   "outputs": [
    {
     "data": {
      "application/vnd.jupyter.widget-view+json": {
       "model_id": "39ca56a859324b3aa812060f6d92a458",
       "version_major": 2,
       "version_minor": 0
      },
      "text/plain": [
       "HBox(children=(IntProgress(value=1, bar_style='info', max=1), HTML(value='')))"
      ]
     },
     "metadata": {},
     "output_type": "display_data"
    },
    {
     "name": "stdout",
     "output_type": "stream",
     "text": [
      "\n"
     ]
    }
   ],
   "source": [
    "from submission import RLenc\n",
    "from submission import get_submission\n",
    "from tqdm import tqdm_notebook as tqdm_NB\n",
    "\n",
    "pred_dict = {fn[:-4]:RLenc(np.round(preds_test_upsampled[i])) for i,fn in tqdm_NB(enumerate(test_ids))}\n",
    "get_submission(pred_dict)"
   ]
  }
 ],
 "metadata": {
  "kernelspec": {
   "display_name": "Python 3",
   "language": "python",
   "name": "python3"
  },
  "language_info": {
   "codemirror_mode": {
    "name": "ipython",
    "version": 3
   },
   "file_extension": ".py",
   "mimetype": "text/x-python",
   "name": "python",
   "nbconvert_exporter": "python",
   "pygments_lexer": "ipython3",
   "version": "3.6.7"
  }
 },
 "nbformat": 4,
 "nbformat_minor": 2
}
