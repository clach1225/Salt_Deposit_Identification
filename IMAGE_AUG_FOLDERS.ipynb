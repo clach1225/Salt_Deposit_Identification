{
 "cells": [
  {
   "cell_type": "code",
   "execution_count": 1,
   "metadata": {},
   "outputs": [
    {
     "name": "stderr",
     "output_type": "stream",
     "text": [
      "c:\\users\\buckf\\anaconda3\\envs\\tensorflow\\lib\\site-packages\\h5py\\__init__.py:36: FutureWarning: Conversion of the second argument of issubdtype from `float` to `np.floating` is deprecated. In future, it will be treated as `np.float64 == np.dtype(float).type`.\n",
      "  from ._conv import register_converters as _register_converters\n",
      "Using TensorFlow backend.\n"
     ]
    }
   ],
   "source": [
    "import random\n",
    "import pandas as pd\n",
    "import os\n",
    "\n",
    "from sklearn.model_selection import train_test_split\n",
    "\n",
    "\n",
    "import matplotlib.pyplot as plt\n",
    "import matplotlib.image as mpimg\n",
    "import numpy as np\n",
    "\n",
    "from PIL import Image, ImageFilter\n",
    "\n",
    "import keras.backend as KerasBackend\n",
    "\n",
    "from skimage.transform import resize\n",
    "\n",
    "import time\n",
    "import numpy\n",
    "from keras.datasets import mnist\n",
    "from keras.models import Model\n",
    "from keras.layers import Input, Concatenate, Dense, Dropout, Flatten, Activation\n",
    "from keras.layers.convolutional import Conv2D, MaxPooling2D\n",
    "from keras.layers import Conv2DTranspose\n",
    "from keras.layers.normalization import BatchNormalization\n",
    "from keras.utils import to_categorical\n",
    "from keras import backend as K\n",
    "from keras.optimizers import Adam\n",
    "from keras.models import Sequential\n",
    "from keras.layers import Dense\n",
    "from keras.layers import Dropout\n",
    "from keras.layers import UpSampling2D\n",
    "from keras.layers import ZeroPadding2D\n",
    "from keras.preprocessing.image import ImageDataGenerator\n",
    "import keras\n",
    "import cv2\n",
    "\n",
    "import tensorflow as tf\n",
    "import keras.utils as np_utils\n",
    "\n",
    "\n",
    "import tqdm\n",
    "\n",
    "from keras.preprocessing import image\n",
    "from keras.layers import Lambda\n",
    "from keras.layers import Concatenate\n",
    "\n",
    "from keras.callbacks import EarlyStopping\n",
    "from tqdm import tqdm_notebook as tqdm_NB\n",
    "import os\n",
    "import shutil\n",
    "\n",
    "import numpy as np \n",
    "import os\n",
    "import skimage.io as io\n",
    "import skimage.transform as trans\n",
    "import numpy as np\n",
    "from keras.models import *\n",
    "from keras.layers import *\n",
    "from keras.optimizers import *\n",
    "from keras.callbacks import ModelCheckpoint, LearningRateScheduler\n",
    "from keras import backend as keras\n",
    "\n",
    "import re\n",
    "from keras.preprocessing.image import ImageDataGenerator\n",
    "\n",
    "from IPython.core.display import display, HTML\n",
    "\n",
    "\n",
    "import sys\n",
    "import warnings\n",
    "\n",
    "if not sys.warnoptions:\n",
    "    warnings.simplefilter(\"ignore\")"
   ]
  },
  {
   "cell_type": "code",
   "execution_count": 2,
   "metadata": {},
   "outputs": [],
   "source": [
    "path_train = 'data/train/'\n",
    "path_test = 'data/test/'\n",
    "\n",
    "train_ids = next(os.walk(path_train+\"images\"))[2]\n",
    "test_ids = next(os.walk(path_test+\"images\"))[2]"
   ]
  },
  {
   "cell_type": "code",
   "execution_count": 3,
   "metadata": {},
   "outputs": [
    {
     "name": "stdout",
     "output_type": "stream",
     "text": [
      "Getting and resizing train images and masks ... \n"
     ]
    },
    {
     "data": {
      "application/vnd.jupyter.widget-view+json": {
       "model_id": "8f085518428e4a2a9d207a3994ad7245",
       "version_major": 2,
       "version_minor": 0
      },
      "text/plain": [
       "HBox(children=(IntProgress(value=0, max=4000), HTML(value='')))"
      ]
     },
     "metadata": {},
     "output_type": "display_data"
    },
    {
     "name": "stdout",
     "output_type": "stream",
     "text": [
      "\n",
      "Done!\n"
     ]
    }
   ],
   "source": [
    "im_height = 128\n",
    "im_width = 128\n",
    "im_chan = 1\n",
    "\n",
    "# Get and resize train images and masks\n",
    "X_train = np.zeros((len(train_ids), im_height, im_width, im_chan), dtype=np.uint8)\n",
    "Y_train = np.zeros((len(train_ids), im_height, im_width, 1), dtype=np.bool)\n",
    "print('Getting and resizing train images and masks ... ')\n",
    "sys.stdout.flush()\n",
    "for n, id_ in tqdm_NB(enumerate(train_ids), total=len(train_ids)):\n",
    "    path = path_train\n",
    "    img = image.load_img(path + '/images/' + id_)\n",
    "    x = image.img_to_array(img)[:,:,1]\n",
    "    x = resize(x, (128, 128, 1), mode='constant', preserve_range=True)\n",
    "    X_train[n] = x\n",
    "    mask = image.img_to_array(image.load_img(path + '/masks/' + id_))[:,:,1]\n",
    "    Y_train[n] = resize(mask, (128, 128, 1), mode='constant', preserve_range=True)\n",
    "\n",
    "print('Done!')"
   ]
  },
  {
   "cell_type": "code",
   "execution_count": 4,
   "metadata": {},
   "outputs": [
    {
     "data": {
      "text/html": [
       "<a href=\"https://augmentor.readthedocs.io/en/master/\">Documentation</a>"
      ],
      "text/plain": [
       "<IPython.core.display.HTML object>"
      ]
     },
     "metadata": {},
     "output_type": "display_data"
    },
    {
     "data": {
      "text/html": [
       "<a href=\"https://github.com/mdbloice/Augmentor\">Tutorial</a>"
      ],
      "text/plain": [
       "<IPython.core.display.HTML object>"
      ]
     },
     "metadata": {},
     "output_type": "display_data"
    }
   ],
   "source": [
    "#Attempting to Augment X_Train and y_train images.\n",
    "#Here is a link to the library Documentation:\n",
    "display(HTML(\"\"\"<a href=\"https://augmentor.readthedocs.io/en/master/\">Documentation</a>\"\"\"))\n",
    "#I am using an tutorial found here: \n",
    "display(HTML(\"\"\"<a href=\"https://github.com/mdbloice/Augmentor\">Tutorial</a>\"\"\"))\n",
    "import Augmentor"
   ]
  },
  {
   "cell_type": "markdown",
   "metadata": {},
   "source": [
    "## Image Augmentation:"
   ]
  },
  {
   "cell_type": "code",
   "execution_count": 5,
   "metadata": {},
   "outputs": [
    {
     "name": "stdout",
     "output_type": "stream",
     "text": [
      "Initialised with 4000 image(s) found.\n",
      "Output directory set to C:\\Users\\buckf\\Documents\\Practicum_2\\Salt_Deposit_Identification-master\\data\\train\\images\\output."
     ]
    },
    {
     "name": "stderr",
     "output_type": "stream",
     "text": [
      "                                                                                                             \r"
     ]
    },
    {
     "name": "stdout",
     "output_type": "stream",
     "text": [
      "4000 ground truth image(s) found.\n"
     ]
    },
    {
     "name": "stderr",
     "output_type": "stream",
     "text": [
      "Processing <PIL.Image.Image image mode=RGB size=101x101 at 0x25B1576B978>: 100%|█| 10/10 [00:00<00:00, 147.45 Samples/s]\n"
     ]
    }
   ],
   "source": [
    "train_image_path = r\"C:\\Users\\buckf\\Documents\\Practicum_2\\Salt_Deposit_Identification-master\\data\\train\\images\"\n",
    "\n",
    "train_mask_path = r\"C:\\Users\\buckf\\Documents\\Practicum_2\\Salt_Deposit_Identification-master\\data\\train\\masks\"\n",
    "\n",
    "p = Augmentor.Pipeline(train_image_path)\n",
    "# Point to a directory containing ground truth data.\n",
    "# Images with the same file names will be added as ground truth data\n",
    "# and augmented in parallel to the original data.\n",
    "p.ground_truth(train_mask_path)\n",
    "# Add operations to the pipeline as normal:\n",
    "p.rotate(probability=1, max_left_rotation=5, max_right_rotation=5)\n",
    "p.flip_left_right(probability=0.5)\n",
    "p.zoom_random(probability=0.5, percentage_area=0.8)\n",
    "p.flip_top_bottom(probability=0.5)\n",
    "\n",
    "#This function allows you to select how many images you would like to augment.\n",
    "p.sample(10)"
   ]
  },
  {
   "cell_type": "code",
   "execution_count": 6,
   "metadata": {},
   "outputs": [],
   "source": [
    "#All the orginal images being with \"images_original_\"\n",
    "#All masks begin with \"_groudtruth_(1)_images\""
   ]
  },
  {
   "cell_type": "code",
   "execution_count": 7,
   "metadata": {},
   "outputs": [],
   "source": [
    "#This takes all the augmentated images and masks and creates places them\n",
    "# in a two seperate folders into the train directory.\n",
    "\n",
    "srcpath = r\"C:\\Users\\buckf\\Documents\\Practicum_2\\Salt_Deposit_Identification-master\\data\\train\\images\\output\"\n",
    "destpath = r\"C:\\Users\\buckf\\Documents\\Practicum_2\\Salt_Deposit_Identification-master\\data\\train\"\n",
    "\n",
    "for root, subFolders, files in os.walk(srcpath):\n",
    "    for file in files:\n",
    "        subFolder = os.path.join(destpath, file[:8])\n",
    "        if not os.path.isdir(subFolder):\n",
    "            os.makedirs(subFolder)\n",
    "        shutil.move(os.path.join(root, file), subFolder)"
   ]
  },
  {
   "cell_type": "code",
   "execution_count": 8,
   "metadata": {},
   "outputs": [],
   "source": [
    "#Renames files in train directory for ease.\n",
    "\n",
    "#Augmented_Masks:\n",
    "os.rename(src = r\"C:\\Users\\buckf\\Documents\\Practicum_2\\Salt_Deposit_Identification-master\\data\\train\\_groundt\", dst=r\"C:\\Users\\buckf\\Documents\\Practicum_2\\Salt_Deposit_Identification-master\\data\\train\\aug_masks\")\n",
    "\n",
    "#Augmented_Images:\n",
    "os.rename(src = r\"C:\\Users\\buckf\\Documents\\Practicum_2\\Salt_Deposit_Identification-master\\data\\train\\images_o\", dst=r\"C:\\Users\\buckf\\Documents\\Practicum_2\\Salt_Deposit_Identification-master\\data\\train\\aug_images\")"
   ]
  },
  {
   "cell_type": "markdown",
   "metadata": {},
   "source": [
    "## Import Augmented Images"
   ]
  },
  {
   "cell_type": "code",
   "execution_count": 14,
   "metadata": {},
   "outputs": [
    {
     "data": {
      "text/plain": [
       "'data/train/'"
      ]
     },
     "execution_count": 14,
     "metadata": {},
     "output_type": "execute_result"
    }
   ],
   "source": [
    "path_train"
   ]
  },
  {
   "cell_type": "code",
   "execution_count": 27,
   "metadata": {},
   "outputs": [],
   "source": [
    "aug_train_images_ids = next(os.walk(path_train+\"aug_images\"))[2]\n",
    "aug_train_masks_ids = next(os.walk(path_train+\"aug_masks\"))[2]"
   ]
  },
  {
   "cell_type": "code",
   "execution_count": null,
   "metadata": {},
   "outputs": [],
   "source": [
    "im_height = 128\n",
    "im_width = 128\n",
    "im_chan = 1\n",
    "\n",
    "# Get and resize train images and masks\n",
    "X_train = np.zeros((len(train_ids), im_height, im_width, im_chan), dtype=np.uint8)\n",
    "Y_train = np.zeros((len(train_ids), im_height, im_width, 1), dtype=np.bool)\n",
    "print('Getting and resizing train images and masks ... ')\n",
    "sys.stdout.flush()\n",
    "for n, id_ in tqdm_NB(enumerate(train_ids), total=len(train_ids)):\n",
    "    path = path_train\n",
    "    img = image.load_img(path + '/images/' + id_)\n",
    "    x = image.img_to_array(img)[:,:,1]\n",
    "    x = resize(x, (128, 128, 1), mode='constant', preserve_range=True)\n",
    "    X_train[n] = x\n",
    "    mask = image.img_to_array(image.load_img(path + '/masks/' + id_))[:,:,1]\n",
    "    Y_train[n] = resize(mask, (128, 128, 1), mode='constant', preserve_range=True)\n",
    "\n",
    "print('Done!')"
   ]
  },
  {
   "cell_type": "code",
   "execution_count": 39,
   "metadata": {},
   "outputs": [
    {
     "name": "stdout",
     "output_type": "stream",
     "text": [
      "Getting and resizing train images and masks ... \n"
     ]
    },
    {
     "data": {
      "application/vnd.jupyter.widget-view+json": {
       "model_id": "6c7306071a174dcbaab1c3ac5f1d2866",
       "version_major": 2,
       "version_minor": 0
      },
      "text/plain": [
       "HBox(children=(IntProgress(value=0, max=10), HTML(value='')))"
      ]
     },
     "metadata": {},
     "output_type": "display_data"
    },
    {
     "name": "stdout",
     "output_type": "stream",
     "text": [
      "\n"
     ]
    },
    {
     "data": {
      "application/vnd.jupyter.widget-view+json": {
       "model_id": "4f572824847042049fd49529d927aada",
       "version_major": 2,
       "version_minor": 0
      },
      "text/plain": [
       "HBox(children=(IntProgress(value=0, max=10), HTML(value='')))"
      ]
     },
     "metadata": {},
     "output_type": "display_data"
    },
    {
     "name": "stdout",
     "output_type": "stream",
     "text": [
      "\n",
      "Done!\n"
     ]
    }
   ],
   "source": [
    "im_height = 128\n",
    "im_width = 128\n",
    "im_chan = 1\n",
    "\n",
    "# Get and resize train images and masks\n",
    "Aug_X_train = np.zeros((len(aug_train_images_ids), im_height, im_width, im_chan), dtype=np.uint8)\n",
    "Aug_Y_train = np.zeros((len(aug_train_images_ids), im_height, im_width, 1), dtype=np.bool)\n",
    "print('Getting and resizing train images and masks ... ')\n",
    "sys.stdout.flush()\n",
    "for n, id_ in tqdm_NB(enumerate(aug_train_images_ids), total=len(aug_train_images_ids)):\n",
    "    path = path_train\n",
    "    img = image.load_img(path + 'aug_images/' + id_)\n",
    "    x = image.img_to_array(img)[:,:,1]\n",
    "    x = resize(x, (128, 128, 1), mode='constant', preserve_range=True)\n",
    "    Aug_X_train[n] = x\n",
    "    \n",
    "for n, id_ in tqdm_NB(enumerate(aug_train_masks_ids), total=len(aug_train_masks_ids)):    \n",
    "    mask = image.img_to_array(image.load_img(path + 'aug_masks/' + id_))[:,:,1]\n",
    "    Aug_Y_train[n] = resize(mask, (128, 128, 1), mode='constant', preserve_range=True)\n",
    "\n",
    "print('Done!')"
   ]
  },
  {
   "cell_type": "code",
   "execution_count": 51,
   "metadata": {},
   "outputs": [
    {
     "data": {
      "text/plain": [
       "(10, 128, 128, 1)"
      ]
     },
     "execution_count": 51,
     "metadata": {},
     "output_type": "execute_result"
    }
   ],
   "source": [
    "Aug_Y_train.shape"
   ]
  },
  {
   "cell_type": "code",
   "execution_count": 62,
   "metadata": {},
   "outputs": [
    {
     "data": {
      "image/png": "[encoded data removed]",
      "text/plain": [
       "<Figure size 432x288 with 1 Axes>"
      ]
     },
     "metadata": {},
     "output_type": "display_data"
    },
    {
     "data": {
      "image/png": "[encoded data removed]",
      "text/plain": [
       "<Figure size 432x288 with 1 Axes>"
      ]
     },
     "metadata": {},
     "output_type": "display_data"
    }
   ],
   "source": [
    "# Check if training data looks all right\n",
    "ix = random.randint(0, len(Aug_X_train))\n",
    "plt.imshow(np.dstack((Aug_X_train[ix],Aug_X_train[ix],Aug_X_train[ix])))\n",
    "plt.show()\n",
    "\n",
    "\n",
    "tmp = np.squeeze(Aug_Y_train[ix]).astype(np.float32)\n",
    "plt.imshow(np.dstack((tmp,tmp,tmp)))\n",
    "plt.show()"
   ]
  },
  {
   "cell_type": "code",
   "execution_count": 95,
   "metadata": {},
   "outputs": [
    {
     "data": {
      "text/plain": [
       "(4000, 128, 128, 1)"
      ]
     },
     "execution_count": 95,
     "metadata": {},
     "output_type": "execute_result"
    }
   ],
   "source": [
    "X_train.shape"
   ]
  },
  {
   "cell_type": "code",
   "execution_count": 96,
   "metadata": {},
   "outputs": [
    {
     "data": {
      "text/plain": [
       "(10, 128, 128, 1)"
      ]
     },
     "execution_count": 96,
     "metadata": {},
     "output_type": "execute_result"
    }
   ],
   "source": [
    "Aug_X_train.shape"
   ]
  },
  {
   "cell_type": "code",
   "execution_count": 100,
   "metadata": {
    "scrolled": true
   },
   "outputs": [
    {
     "ename": "ValueError",
     "evalue": "all the input array dimensions except for the concatenation axis must match exactly",
     "output_type": "error",
     "traceback": [
      "\u001b[1;31m---------------------------------------------------------------------------\u001b[0m",
      "\u001b[1;31mValueError\u001b[0m                                Traceback (most recent call last)",
      "\u001b[1;32m<ipython-input-100-94e4e112d597>\u001b[0m in \u001b[0;36m<module>\u001b[1;34m()\u001b[0m\n\u001b[1;32m----> 1\u001b[1;33m \u001b[0mX_Train_trial\u001b[0m \u001b[1;33m=\u001b[0m \u001b[0mnp\u001b[0m\u001b[1;33m.\u001b[0m\u001b[0mconcatenate\u001b[0m\u001b[1;33m(\u001b[0m\u001b[1;33m(\u001b[0m\u001b[0mX_train\u001b[0m\u001b[1;33m,\u001b[0m \u001b[0mAug_X_train\u001b[0m\u001b[1;33m)\u001b[0m\u001b[1;33m,\u001b[0m \u001b[0maxis\u001b[0m\u001b[1;33m=\u001b[0m\u001b[1;36m3\u001b[0m\u001b[1;33m)\u001b[0m\u001b[1;33m\u001b[0m\u001b[0m\n\u001b[0m",
      "\u001b[1;31mValueError\u001b[0m: all the input array dimensions except for the concatenation axis must match exactly"
     ]
    }
   ],
   "source": [
    "X_Train_trial = np.concatenate((X_train, Aug_X_train), axis=3)"
   ]
  },
  {
   "cell_type": "code",
   "execution_count": 105,
   "metadata": {},
   "outputs": [
    {
     "ename": "ValueError",
     "evalue": "Layer concatenate_1 was called with an input that isn't a symbolic tensor. Received type: <class 'tuple'>. Full input: [(array([[[[[135],\n          [149],\n          [148],\n          ...,\n          [133],\n          [134],\n          [120]],\n\n         [[151],\n          [168],\n          [167],\n          ...,\n          [152],\n          [153],\n          [137]],\n\n         [[151],\n          [168],\n          [167],\n          ...,\n          [156],\n          [158],\n          [142]],\n\n         ...,\n\n         [[133],\n          [150],\n          [151],\n          ...,\n          [130],\n          [122],\n          [103]],\n\n         [[135],\n          [153],\n          [154],\n          ...,\n          [130],\n          [122],\n          [103]],\n\n         [[122],\n          [138],\n          [139],\n          ...,\n          [116],\n          [109],\n          [ 92]]],\n\n\n        [[[ 43],\n          [ 58],\n          [ 74],\n          ...,\n          [108],\n          [ 77],\n          [ 50]],\n\n         [[ 51],\n          [ 69],\n          [ 87],\n          ...,\n          [115],\n          [ 82],\n          [ 53]],\n\n         [[ 58],\n          [ 75],\n          [ 93],\n          ...,\n          [108],\n          [ 79],\n          [ 52]],\n\n         ...,\n\n         [[ 94],\n          [112],\n          [118],\n          ...,\n          [122],\n          [123],\n          [115]],\n\n         [[ 94],\n          [111],\n          [119],\n          ...,\n          [124],\n          [124],\n          [114]],\n\n         [[ 84],\n          [ 99],\n          [109],\n          ...,\n          [112],\n          [111],\n          [101]]],\n\n\n        [[[ 68],\n          [ 76],\n          [ 76],\n          ...,\n          [ 69],\n          [ 70],\n          [ 63]],\n\n         [[ 76],\n          [ 84],\n          [ 84],\n          ...,\n          [ 76],\n          [ 75],\n          [ 67]],\n\n         [[ 75],\n          [ 83],\n          [ 83],\n          ...,\n          [ 72],\n          [ 71],\n          [ 63]],\n\n         ...,\n\n         [[ 64],\n          [ 73],\n          [ 75],\n          ...,\n          [ 59],\n          [ 47],\n          [ 31]],\n\n         [[ 66],\n          [ 76],\n          [ 78],\n          ...,\n          [ 53],\n          [ 45],\n          [ 31]],\n\n         [[ 61],\n          [ 71],\n          [ 74],\n          ...,\n          [ 45],\n          [ 40],\n          [ 31]]],\n\n\n        ...,\n\n\n        [[[ 85],\n          [ 98],\n          [100],\n          ...,\n          [197],\n          [204],\n          [186]],\n\n         [[103],\n          [118],\n          [118],\n          ...,\n          [204],\n          [214],\n          [197]],\n\n         [[111],\n          [125],\n          [123],\n          ...,\n          [186],\n          [197],\n          [183]],\n\n         ...,\n\n         [[ 92],\n          [112],\n          [121],\n          ...,\n          [ 71],\n          [ 74],\n          [ 66]],\n\n         [[ 94],\n          [113],\n          [121],\n          ...,\n          [ 65],\n          [ 67],\n          [ 59]],\n\n         [[ 92],\n          [106],\n          [111],\n          ...,\n          [ 54],\n          [ 54],\n          [ 48]]],\n\n\n        [[[ 88],\n          [102],\n          [102],\n          ...,\n          [122],\n          [126],\n          [109]],\n\n         [[105],\n          [121],\n          [123],\n          ...,\n          [134],\n          [137],\n          [118]],\n\n         [[116],\n          [132],\n          [135],\n          ...,\n          [128],\n          [130],\n          [113]],\n\n         ...,\n\n         [[139],\n          [157],\n          [148],\n          ...,\n          [115],\n          [117],\n          [103]],\n\n         [[110],\n          [121],\n          [114],\n          ...,\n          [114],\n          [116],\n          [103]],\n\n         [[ 79],\n          [ 83],\n          [ 79],\n          ...,\n          [102],\n          [102],\n          [ 92]]],\n\n\n        [[[ 83],\n          [ 96],\n          [102],\n          ...,\n          [ 77],\n          [ 74],\n          [ 64]],\n\n         [[ 76],\n          [ 88],\n          [ 95],\n          ...,\n          [ 75],\n          [ 72],\n          [ 62]],\n\n         [[ 63],\n          [ 72],\n          [ 77],\n          ...,\n          [ 68],\n          [ 66],\n          [ 58]],\n\n         ...,\n\n         [[ 78],\n          [ 88],\n          [ 89],\n          ...,\n          [ 89],\n          [ 89],\n          [ 79]],\n\n         [[ 78],\n          [ 88],\n          [ 89],\n          ...,\n          [ 89],\n          [ 88],\n          [ 79]],\n\n         [[ 70],\n          [ 79],\n          [ 79],\n          ...,\n          [ 79],\n          [ 79],\n          [ 70]]]]], dtype=uint8), array([[[[[135],\n          [149],\n          [148],\n          ...,\n          [133],\n          [134],\n          [120]],\n\n         [[151],\n          [168],\n          [167],\n          ...,\n          [152],\n          [153],\n          [137]],\n\n         [[151],\n          [168],\n          [167],\n          ...,\n          [156],\n          [158],\n          [142]],\n\n         ...,\n\n         [[133],\n          [150],\n          [151],\n          ...,\n          [130],\n          [122],\n          [103]],\n\n         [[135],\n          [153],\n          [154],\n          ...,\n          [130],\n          [122],\n          [103]],\n\n         [[122],\n          [138],\n          [139],\n          ...,\n          [116],\n          [109],\n          [ 92]]],\n\n\n        [[[ 43],\n          [ 58],\n          [ 74],\n          ...,\n          [108],\n          [ 77],\n          [ 50]],\n\n         [[ 51],\n          [ 69],\n          [ 87],\n          ...,\n          [115],\n          [ 82],\n          [ 53]],\n\n         [[ 58],\n          [ 75],\n          [ 93],\n          ...,\n          [108],\n          [ 79],\n          [ 52]],\n\n         ...,\n\n         [[ 94],\n          [112],\n          [118],\n          ...,\n          [122],\n          [123],\n          [115]],\n\n         [[ 94],\n          [111],\n          [119],\n          ...,\n          [124],\n          [124],\n          [114]],\n\n         [[ 84],\n          [ 99],\n          [109],\n          ...,\n          [112],\n          [111],\n          [101]]],\n\n\n        [[[ 68],\n          [ 76],\n          [ 76],\n          ...,\n          [ 69],\n          [ 70],\n          [ 63]],\n\n         [[ 76],\n          [ 84],\n          [ 84],\n          ...,\n          [ 76],\n          [ 75],\n          [ 67]],\n\n         [[ 75],\n          [ 83],\n          [ 83],\n          ...,\n          [ 72],\n          [ 71],\n          [ 63]],\n\n         ...,\n\n         [[ 64],\n          [ 73],\n          [ 75],\n          ...,\n          [ 59],\n          [ 47],\n          [ 31]],\n\n         [[ 66],\n          [ 76],\n          [ 78],\n          ...,\n          [ 53],\n          [ 45],\n          [ 31]],\n\n         [[ 61],\n          [ 71],\n          [ 74],\n          ...,\n          [ 45],\n          [ 40],\n          [ 31]]],\n\n\n        ...,\n\n\n        [[[127],\n          [143],\n          [144],\n          ...,\n          [126],\n          [125],\n          [112]],\n\n         [[142],\n          [161],\n          [161],\n          ...,\n          [140],\n          [138],\n          [124]],\n\n         [[143],\n          [161],\n          [161],\n          ...,\n          [138],\n          [136],\n          [122]],\n\n         ...,\n\n         [[133],\n          [149],\n          [149],\n          ...,\n          [135],\n          [131],\n          [114]],\n\n         [[133],\n          [149],\n          [149],\n          ...,\n          [140],\n          [134],\n          [116]],\n\n         [[119],\n          [133],\n          [133],\n          ...,\n          [129],\n          [123],\n          [106]]],\n\n\n        [[[  0],\n          [  0],\n          [  0],\n          ...,\n          [  0],\n          [  0],\n          [  0]],\n\n         [[  0],\n          [  0],\n          [  0],\n          ...,\n          [  0],\n          [  0],\n          [  0]],\n\n         [[  0],\n          [  0],\n          [  0],\n          ...,\n          [  0],\n          [  0],\n          [  0]],\n\n         ...,\n\n         [[  0],\n          [  0],\n          [  0],\n          ...,\n          [  0],\n          [  0],\n          [  0]],\n\n         [[  0],\n          [  0],\n          [  0],\n          ...,\n          [  0],\n          [  0],\n          [  0]],\n\n         [[  0],\n          [  0],\n          [  0],\n          ...,\n          [  0],\n          [  0],\n          [  0]]],\n\n\n        [[[ 68],\n          [ 76],\n          [ 76],\n          ...,\n          [ 55],\n          [ 67],\n          [ 73]],\n\n         [[ 77],\n          [ 86],\n          [ 85],\n          ...,\n          [ 60],\n          [ 67],\n          [ 70]],\n\n         [[ 78],\n          [ 86],\n          [ 86],\n          ...,\n          [ 61],\n          [ 61],\n          [ 58]],\n\n         ...,\n\n         [[ 78],\n          [ 88],\n          [ 88],\n          ...,\n          [ 90],\n          [ 91],\n          [ 81]],\n\n         [[ 79],\n          [ 88],\n          [ 88],\n          ...,\n          [ 90],\n          [ 90],\n          [ 81]],\n\n         [[ 71],\n          [ 79],\n          [ 78],\n          ...,\n          [ 80],\n          [ 80],\n          [ 72]]]]], dtype=uint8))]. All inputs to the layer should be tensors.",
     "output_type": "error",
     "traceback": [
      "\u001b[1;31m---------------------------------------------------------------------------\u001b[0m",
      "\u001b[1;31mValueError\u001b[0m                                Traceback (most recent call last)",
      "\u001b[1;32mc:\\users\\buckf\\anaconda3\\envs\\tensorflow\\lib\\site-packages\\keras\\engine\\topology.py\u001b[0m in \u001b[0;36massert_input_compatibility\u001b[1;34m(self, inputs)\u001b[0m\n\u001b[0;32m    441\u001b[0m             \u001b[1;32mtry\u001b[0m\u001b[1;33m:\u001b[0m\u001b[1;33m\u001b[0m\u001b[0m\n\u001b[1;32m--> 442\u001b[1;33m                 \u001b[0mK\u001b[0m\u001b[1;33m.\u001b[0m\u001b[0mis_keras_tensor\u001b[0m\u001b[1;33m(\u001b[0m\u001b[0mx\u001b[0m\u001b[1;33m)\u001b[0m\u001b[1;33m\u001b[0m\u001b[0m\n\u001b[0m\u001b[0;32m    443\u001b[0m             \u001b[1;32mexcept\u001b[0m \u001b[0mValueError\u001b[0m\u001b[1;33m:\u001b[0m\u001b[1;33m\u001b[0m\u001b[0m\n",
      "\u001b[1;32mc:\\users\\buckf\\anaconda3\\envs\\tensorflow\\lib\\site-packages\\keras\\backend\\tensorflow_backend.py\u001b[0m in \u001b[0;36mis_keras_tensor\u001b[1;34m(x)\u001b[0m\n\u001b[0;32m    467\u001b[0m                           tf.SparseTensor)):\n\u001b[1;32m--> 468\u001b[1;33m         raise ValueError('Unexpectedly found an instance of type `' + str(type(x)) + '`. '\n\u001b[0m\u001b[0;32m    469\u001b[0m                          'Expected a symbolic tensor instance.')\n",
      "\u001b[1;31mValueError\u001b[0m: Unexpectedly found an instance of type `<class 'tuple'>`. Expected a symbolic tensor instance.",
      "\nDuring handling of the above exception, another exception occurred:\n",
      "\u001b[1;31mValueError\u001b[0m                                Traceback (most recent call last)",
      "\u001b[1;32m<ipython-input-105-fdc92ccb73bd>\u001b[0m in \u001b[0;36m<module>\u001b[1;34m()\u001b[0m\n\u001b[1;32m----> 1\u001b[1;33m \u001b[0mc\u001b[0m \u001b[1;33m=\u001b[0m \u001b[0mconcatenate\u001b[0m\u001b[1;33m(\u001b[0m\u001b[1;33m(\u001b[0m\u001b[0mX_train\u001b[0m\u001b[1;33m[\u001b[0m\u001b[1;32mNone\u001b[0m\u001b[1;33m,\u001b[0m\u001b[1;33m:\u001b[0m\u001b[1;33m,\u001b[0m\u001b[1;33m:\u001b[0m\u001b[1;33m,\u001b[0m\u001b[1;33m:\u001b[0m\u001b[1;33m]\u001b[0m\u001b[1;33m,\u001b[0m\u001b[0mAug_X_train\u001b[0m\u001b[1;33m[\u001b[0m\u001b[1;32mNone\u001b[0m\u001b[1;33m,\u001b[0m\u001b[1;33m:\u001b[0m\u001b[1;33m,\u001b[0m\u001b[1;33m:\u001b[0m\u001b[1;33m,\u001b[0m\u001b[1;33m:\u001b[0m\u001b[1;33m]\u001b[0m\u001b[1;33m)\u001b[0m\u001b[1;33m,\u001b[0m \u001b[0maxis\u001b[0m\u001b[1;33m=\u001b[0m\u001b[1;36m0\u001b[0m\u001b[1;33m)\u001b[0m\u001b[1;33m\u001b[0m\u001b[0m\n\u001b[0m",
      "\u001b[1;32mc:\\users\\buckf\\anaconda3\\envs\\tensorflow\\lib\\site-packages\\keras\\layers\\merge.py\u001b[0m in \u001b[0;36mconcatenate\u001b[1;34m(inputs, axis, **kwargs)\u001b[0m\n\u001b[0;32m    639\u001b[0m         \u001b[0mA\u001b[0m \u001b[0mtensor\u001b[0m\u001b[1;33m,\u001b[0m \u001b[0mthe\u001b[0m \u001b[0mconcatenation\u001b[0m \u001b[0mof\u001b[0m \u001b[0mthe\u001b[0m \u001b[0minputs\u001b[0m \u001b[0malongside\u001b[0m \u001b[0maxis\u001b[0m\u001b[0;31m \u001b[0m\u001b[0;31m`\u001b[0m\u001b[0maxis\u001b[0m\u001b[0;31m`\u001b[0m\u001b[1;33m.\u001b[0m\u001b[1;33m\u001b[0m\u001b[0m\n\u001b[0;32m    640\u001b[0m     \"\"\"\n\u001b[1;32m--> 641\u001b[1;33m     \u001b[1;32mreturn\u001b[0m \u001b[0mConcatenate\u001b[0m\u001b[1;33m(\u001b[0m\u001b[0maxis\u001b[0m\u001b[1;33m=\u001b[0m\u001b[0maxis\u001b[0m\u001b[1;33m,\u001b[0m \u001b[1;33m**\u001b[0m\u001b[0mkwargs\u001b[0m\u001b[1;33m)\u001b[0m\u001b[1;33m(\u001b[0m\u001b[0minputs\u001b[0m\u001b[1;33m)\u001b[0m\u001b[1;33m\u001b[0m\u001b[0m\n\u001b[0m\u001b[0;32m    642\u001b[0m \u001b[1;33m\u001b[0m\u001b[0m\n\u001b[0;32m    643\u001b[0m \u001b[1;33m\u001b[0m\u001b[0m\n",
      "\u001b[1;32mc:\\users\\buckf\\anaconda3\\envs\\tensorflow\\lib\\site-packages\\keras\\engine\\topology.py\u001b[0m in \u001b[0;36m__call__\u001b[1;34m(self, inputs, **kwargs)\u001b[0m\n\u001b[0;32m    573\u001b[0m                 \u001b[1;31m# Raise exceptions in case the input is not compatible\u001b[0m\u001b[1;33m\u001b[0m\u001b[1;33m\u001b[0m\u001b[0m\n\u001b[0;32m    574\u001b[0m                 \u001b[1;31m# with the input_spec specified in the layer constructor.\u001b[0m\u001b[1;33m\u001b[0m\u001b[1;33m\u001b[0m\u001b[0m\n\u001b[1;32m--> 575\u001b[1;33m                 \u001b[0mself\u001b[0m\u001b[1;33m.\u001b[0m\u001b[0massert_input_compatibility\u001b[0m\u001b[1;33m(\u001b[0m\u001b[0minputs\u001b[0m\u001b[1;33m)\u001b[0m\u001b[1;33m\u001b[0m\u001b[0m\n\u001b[0m\u001b[0;32m    576\u001b[0m \u001b[1;33m\u001b[0m\u001b[0m\n\u001b[0;32m    577\u001b[0m                 \u001b[1;31m# Collect input shapes to build layer.\u001b[0m\u001b[1;33m\u001b[0m\u001b[1;33m\u001b[0m\u001b[0m\n",
      "\u001b[1;32mc:\\users\\buckf\\anaconda3\\envs\\tensorflow\\lib\\site-packages\\keras\\engine\\topology.py\u001b[0m in \u001b[0;36massert_input_compatibility\u001b[1;34m(self, inputs)\u001b[0m\n\u001b[0;32m    446\u001b[0m                                  \u001b[1;34m'Received type: '\u001b[0m \u001b[1;33m+\u001b[0m\u001b[1;33m\u001b[0m\u001b[0m\n\u001b[0;32m    447\u001b[0m                                  \u001b[0mstr\u001b[0m\u001b[1;33m(\u001b[0m\u001b[0mtype\u001b[0m\u001b[1;33m(\u001b[0m\u001b[0mx\u001b[0m\u001b[1;33m)\u001b[0m\u001b[1;33m)\u001b[0m \u001b[1;33m+\u001b[0m \u001b[1;34m'. Full input: '\u001b[0m \u001b[1;33m+\u001b[0m\u001b[1;33m\u001b[0m\u001b[0m\n\u001b[1;32m--> 448\u001b[1;33m                                  \u001b[0mstr\u001b[0m\u001b[1;33m(\u001b[0m\u001b[0minputs\u001b[0m\u001b[1;33m)\u001b[0m \u001b[1;33m+\u001b[0m \u001b[1;34m'. All inputs to the layer '\u001b[0m\u001b[1;33m\u001b[0m\u001b[0m\n\u001b[0m\u001b[0;32m    449\u001b[0m                                  'should be tensors.')\n\u001b[0;32m    450\u001b[0m \u001b[1;33m\u001b[0m\u001b[0m\n",
      "\u001b[1;31mValueError\u001b[0m: Layer concatenate_1 was called with an input that isn't a symbolic tensor. Received type: <class 'tuple'>. Full input: [(array([[[[[135],\n          [149],\n          [148],\n          ...,\n          [133],\n          [134],\n          [120]],\n\n         [[151],\n          [168],\n          [167],\n          ...,\n          [152],\n          [153],\n          [137]],\n\n         [[151],\n          [168],\n          [167],\n          ...,\n          [156],\n          [158],\n          [142]],\n\n         ...,\n\n         [[133],\n          [150],\n          [151],\n          ...,\n          [130],\n          [122],\n          [103]],\n\n         [[135],\n          [153],\n          [154],\n          ...,\n          [130],\n          [122],\n          [103]],\n\n         [[122],\n          [138],\n          [139],\n          ...,\n          [116],\n          [109],\n          [ 92]]],\n\n\n        [[[ 43],\n          [ 58],\n          [ 74],\n          ...,\n          [108],\n          [ 77],\n          [ 50]],\n\n         [[ 51],\n          [ 69],\n          [ 87],\n          ...,\n          [115],\n          [ 82],\n          [ 53]],\n\n         [[ 58],\n          [ 75],\n          [ 93],\n          ...,\n          [108],\n          [ 79],\n          [ 52]],\n\n         ...,\n\n         [[ 94],\n          [112],\n          [118],\n          ...,\n          [122],\n          [123],\n          [115]],\n\n         [[ 94],\n          [111],\n          [119],\n          ...,\n          [124],\n          [124],\n          [114]],\n\n         [[ 84],\n          [ 99],\n          [109],\n          ...,\n          [112],\n          [111],\n          [101]]],\n\n\n        [[[ 68],\n          [ 76],\n          [ 76],\n          ...,\n          [ 69],\n          [ 70],\n          [ 63]],\n\n         [[ 76],\n          [ 84],\n          [ 84],\n          ...,\n          [ 76],\n          [ 75],\n          [ 67]],\n\n         [[ 75],\n          [ 83],\n          [ 83],\n          ...,\n          [ 72],\n          [ 71],\n          [ 63]],\n\n         ...,\n\n         [[ 64],\n          [ 73],\n          [ 75],\n          ...,\n          [ 59],\n          [ 47],\n          [ 31]],\n\n         [[ 66],\n          [ 76],\n          [ 78],\n          ...,\n          [ 53],\n          [ 45],\n          [ 31]],\n\n         [[ 61],\n          [ 71],\n          [ 74],\n          ...,\n          [ 45],\n          [ 40],\n          [ 31]]],\n\n\n        ...,\n\n\n        [[[ 85],\n          [ 98],\n          [100],\n          ...,\n          [197],\n          [204],\n          [186]],\n\n         [[103],\n          [118],\n          [118],\n          ...,\n          [204],\n          [214],\n          [197]],\n\n         [[111],\n          [125],\n          [123],\n          ...,\n          [186],\n          [197],\n          [183]],\n\n         ...,\n\n         [[ 92],\n          [112],\n          [121],\n          ...,\n          [ 71],\n          [ 74],\n          [ 66]],\n\n         [[ 94],\n          [113],\n          [121],\n          ...,\n          [ 65],\n          [ 67],\n          [ 59]],\n\n         [[ 92],\n          [106],\n          [111],\n          ...,\n          [ 54],\n          [ 54],\n          [ 48]]],\n\n\n        [[[ 88],\n          [102],\n          [102],\n          ...,\n          [122],\n          [126],\n          [109]],\n\n         [[105],\n          [121],\n          [123],\n          ...,\n          [134],\n          [137],\n          [118]],\n\n         [[116],\n          [132],\n          [135],\n          ...,\n          [128],\n          [130],\n          [113]],\n\n         ...,\n\n         [[139],\n          [157],\n          [148],\n          ...,\n          [115],\n          [117],\n          [103]],\n\n         [[110],\n          [121],\n          [114],\n          ...,\n          [114],\n          [116],\n          [103]],\n\n         [[ 79],\n          [ 83],\n          [ 79],\n          ...,\n          [102],\n          [102],\n          [ 92]]],\n\n\n        [[[ 83],\n          [ 96],\n          [102],\n          ...,\n          [ 77],\n          [ 74],\n          [ 64]],\n\n         [[ 76],\n          [ 88],\n          [ 95],\n          ...,\n          [ 75],\n          [ 72],\n          [ 62]],\n\n         [[ 63],\n          [ 72],\n          [ 77],\n          ...,\n          [ 68],\n          [ 66],\n          [ 58]],\n\n         ...,\n\n         [[ 78],\n          [ 88],\n          [ 89],\n          ...,\n          [ 89],\n          [ 89],\n          [ 79]],\n\n         [[ 78],\n          [ 88],\n          [ 89],\n          ...,\n          [ 89],\n          [ 88],\n          [ 79]],\n\n         [[ 70],\n          [ 79],\n          [ 79],\n          ...,\n          [ 79],\n          [ 79],\n          [ 70]]]]], dtype=uint8), array([[[[[135],\n          [149],\n          [148],\n          ...,\n          [133],\n          [134],\n          [120]],\n\n         [[151],\n          [168],\n          [167],\n          ...,\n          [152],\n          [153],\n          [137]],\n\n         [[151],\n          [168],\n          [167],\n          ...,\n          [156],\n          [158],\n          [142]],\n\n         ...,\n\n         [[133],\n          [150],\n          [151],\n          ...,\n          [130],\n          [122],\n          [103]],\n\n         [[135],\n          [153],\n          [154],\n          ...,\n          [130],\n          [122],\n          [103]],\n\n         [[122],\n          [138],\n          [139],\n          ...,\n          [116],\n          [109],\n          [ 92]]],\n\n\n        [[[ 43],\n          [ 58],\n          [ 74],\n          ...,\n          [108],\n          [ 77],\n          [ 50]],\n\n         [[ 51],\n          [ 69],\n          [ 87],\n          ...,\n          [115],\n          [ 82],\n          [ 53]],\n\n         [[ 58],\n          [ 75],\n          [ 93],\n          ...,\n          [108],\n          [ 79],\n          [ 52]],\n\n         ...,\n\n         [[ 94],\n          [112],\n          [118],\n          ...,\n          [122],\n          [123],\n          [115]],\n\n         [[ 94],\n          [111],\n          [119],\n          ...,\n          [124],\n          [124],\n          [114]],\n\n         [[ 84],\n          [ 99],\n          [109],\n          ...,\n          [112],\n          [111],\n          [101]]],\n\n\n        [[[ 68],\n          [ 76],\n          [ 76],\n          ...,\n          [ 69],\n          [ 70],\n          [ 63]],\n\n         [[ 76],\n          [ 84],\n          [ 84],\n          ...,\n          [ 76],\n          [ 75],\n          [ 67]],\n\n         [[ 75],\n          [ 83],\n          [ 83],\n          ...,\n          [ 72],\n          [ 71],\n          [ 63]],\n\n         ...,\n\n         [[ 64],\n          [ 73],\n          [ 75],\n          ...,\n          [ 59],\n          [ 47],\n          [ 31]],\n\n         [[ 66],\n          [ 76],\n          [ 78],\n          ...,\n          [ 53],\n          [ 45],\n          [ 31]],\n\n         [[ 61],\n          [ 71],\n          [ 74],\n          ...,\n          [ 45],\n          [ 40],\n          [ 31]]],\n\n\n        ...,\n\n\n        [[[127],\n          [143],\n          [144],\n          ...,\n          [126],\n          [125],\n          [112]],\n\n         [[142],\n          [161],\n          [161],\n          ...,\n          [140],\n          [138],\n          [124]],\n\n         [[143],\n          [161],\n          [161],\n          ...,\n          [138],\n          [136],\n          [122]],\n\n         ...,\n\n         [[133],\n          [149],\n          [149],\n          ...,\n          [135],\n          [131],\n          [114]],\n\n         [[133],\n          [149],\n          [149],\n          ...,\n          [140],\n          [134],\n          [116]],\n\n         [[119],\n          [133],\n          [133],\n          ...,\n          [129],\n          [123],\n          [106]]],\n\n\n        [[[  0],\n          [  0],\n          [  0],\n          ...,\n          [  0],\n          [  0],\n          [  0]],\n\n         [[  0],\n          [  0],\n          [  0],\n          ...,\n          [  0],\n          [  0],\n          [  0]],\n\n         [[  0],\n          [  0],\n          [  0],\n          ...,\n          [  0],\n          [  0],\n          [  0]],\n\n         ...,\n\n         [[  0],\n          [  0],\n          [  0],\n          ...,\n          [  0],\n          [  0],\n          [  0]],\n\n         [[  0],\n          [  0],\n          [  0],\n          ...,\n          [  0],\n          [  0],\n          [  0]],\n\n         [[  0],\n          [  0],\n          [  0],\n          ...,\n          [  0],\n          [  0],\n          [  0]]],\n\n\n        [[[ 68],\n          [ 76],\n          [ 76],\n          ...,\n          [ 55],\n          [ 67],\n          [ 73]],\n\n         [[ 77],\n          [ 86],\n          [ 85],\n          ...,\n          [ 60],\n          [ 67],\n          [ 70]],\n\n         [[ 78],\n          [ 86],\n          [ 86],\n          ...,\n          [ 61],\n          [ 61],\n          [ 58]],\n\n         ...,\n\n         [[ 78],\n          [ 88],\n          [ 88],\n          ...,\n          [ 90],\n          [ 91],\n          [ 81]],\n\n         [[ 79],\n          [ 88],\n          [ 88],\n          ...,\n          [ 90],\n          [ 90],\n          [ 81]],\n\n         [[ 71],\n          [ 79],\n          [ 78],\n          ...,\n          [ 80],\n          [ 80],\n          [ 72]]]]], dtype=uint8))]. All inputs to the layer should be tensors."
     ]
    }
   ],
   "source": [
    "c = concatenate((X_train[None,:,:,:],Aug_X_train[None,:,:,:]), axis=0)"
   ]
  },
  {
   "cell_type": "code",
   "execution_count": 112,
   "metadata": {},
   "outputs": [
    {
     "ename": "NameError",
     "evalue": "name 'rollaxis' is not defined",
     "output_type": "error",
     "traceback": [
      "\u001b[1;31m---------------------------------------------------------------------------\u001b[0m",
      "\u001b[1;31mNameError\u001b[0m                                 Traceback (most recent call last)",
      "\u001b[1;32m<ipython-input-112-158c27f80933>\u001b[0m in \u001b[0;36m<module>\u001b[1;34m()\u001b[0m\n\u001b[1;32m----> 1\u001b[1;33m \u001b[0mc\u001b[0m \u001b[1;33m=\u001b[0m \u001b[0mrollaxis\u001b[0m\u001b[1;33m(\u001b[0m\u001b[0marray\u001b[0m\u001b[1;33m(\u001b[0m\u001b[1;33m[\u001b[0m\u001b[0mX_train\u001b[0m\u001b[1;33m,\u001b[0m\u001b[0mAug_X_train\u001b[0m\u001b[1;33m]\u001b[0m\u001b[1;33m)\u001b[0m\u001b[1;33m,\u001b[0m \u001b[1;36m0\u001b[0m\u001b[1;33m,\u001b[0m \u001b[1;36m4\u001b[0m\u001b[1;33m)\u001b[0m\u001b[1;33m\u001b[0m\u001b[0m\n\u001b[0m",
      "\u001b[1;31mNameError\u001b[0m: name 'rollaxis' is not defined"
     ]
    }
   ],
   "source": [
    "c = rollaxis(array([X_train,Aug_X_train]), 0, 4)"
   ]
  },
  {
   "cell_type": "code",
   "execution_count": null,
   "metadata": {},
   "outputs": [],
   "source": []
  },
  {
   "cell_type": "code",
   "execution_count": null,
   "metadata": {},
   "outputs": [],
   "source": []
  },
  {
   "cell_type": "code",
   "execution_count": null,
   "metadata": {},
   "outputs": [],
   "source": []
  }
 ],
 "metadata": {
  "kernelspec": {
   "display_name": "Python 3",
   "language": "python",
   "name": "python3"
  },
  "language_info": {
   "codemirror_mode": {
    "name": "ipython",
    "version": 3
   },
   "file_extension": ".py",
   "mimetype": "text/x-python",
   "name": "python",
   "nbconvert_exporter": "python",
   "pygments_lexer": "ipython3",
   "version": "3.5.5"
  }
 },
 "nbformat": 4,
 "nbformat_minor": 2
}
